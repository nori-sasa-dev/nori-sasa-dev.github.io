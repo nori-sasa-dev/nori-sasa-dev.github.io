{
 "cells": [
  {
   "cell_type": "code",
   "execution_count": 1,
   "id": "dbd80967",
   "metadata": {
    "_cell_guid": "b1076dfc-b9ad-4769-8c92-a6c4dae69d19",
    "_uuid": "8f2839f25d086af736a60e9eeb907d3b93b6e0e5",
    "execution": {
     "iopub.execute_input": "2025-06-03T00:56:14.738098Z",
     "iopub.status.busy": "2025-06-03T00:56:14.737648Z",
     "iopub.status.idle": "2025-06-03T00:56:16.672112Z",
     "shell.execute_reply": "2025-06-03T00:56:16.671089Z"
    },
    "papermill": {
     "duration": 1.940289,
     "end_time": "2025-06-03T00:56:16.673734",
     "exception": false,
     "start_time": "2025-06-03T00:56:14.733445",
     "status": "completed"
    },
    "tags": []
   },
   "outputs": [
    {
     "name": "stdout",
     "output_type": "stream",
     "text": [
      "/kaggle/input/titanic/train.csv\n",
      "/kaggle/input/titanic/test.csv\n",
      "/kaggle/input/titanic/gender_submission.csv\n"
     ]
    }
   ],
   "source": [
    "# This Python 3 environment comes with many helpful analytics libraries installed\n",
    "# It is defined by the kaggle/python Docker image: https://github.com/kaggle/docker-python\n",
    "# For example, here's several helpful packages to load\n",
    "\n",
    "import numpy as np # linear algebra\n",
    "import pandas as pd # data processing, CSV file I/O (e.g. pd.read_csv)\n",
    "\n",
    "# Input data files are available in the read-only \"../input/\" directory\n",
    "# For example, running this (by clicking run or pressing Shift+Enter) will list all files under the input directory\n",
    "\n",
    "import os\n",
    "for dirname, _, filenames in os.walk('/kaggle/input'):\n",
    "    for filename in filenames:\n",
    "        print(os.path.join(dirname, filename))\n",
    "\n",
    "# You can write up to 20GB to the current directory (/kaggle/working/) that gets preserved as output when you create a version using \"Save & Run All\" \n",
    "# You can also write temporary files to /kaggle/temp/, but they won't be saved outside of the current session"
   ]
  },
  {
   "cell_type": "code",
   "execution_count": 2,
   "id": "f1c30dfe",
   "metadata": {
    "execution": {
     "iopub.execute_input": "2025-06-03T00:56:16.680879Z",
     "iopub.status.busy": "2025-06-03T00:56:16.680196Z",
     "iopub.status.idle": "2025-06-03T00:56:16.724064Z",
     "shell.execute_reply": "2025-06-03T00:56:16.723006Z"
    },
    "papermill": {
     "duration": 0.048917,
     "end_time": "2025-06-03T00:56:16.725745",
     "exception": false,
     "start_time": "2025-06-03T00:56:16.676828",
     "status": "completed"
    },
    "tags": []
   },
   "outputs": [],
   "source": [
    "# 学習データ、テストデータの読み込み\n",
    "train = pd.read_csv('/kaggle/input/titanic/train.csv')\n",
    "test = pd.read_csv('/kaggle/input/titanic/test.csv')\n",
    "\n",
    "# 学習データを特徴量と目的変数に分ける\n",
    "train_X = train.drop(['Survived'], axis=1)\n",
    "train_y = train['Survived']\n",
    "\n",
    "# テストデータは特徴量のみなので、そのままで良い\n",
    "test_X = test.copy()"
   ]
  },
  {
   "cell_type": "code",
   "execution_count": 3,
   "id": "a61e8518",
   "metadata": {
    "execution": {
     "iopub.execute_input": "2025-06-03T00:56:16.732060Z",
     "iopub.status.busy": "2025-06-03T00:56:16.731417Z",
     "iopub.status.idle": "2025-06-03T00:56:18.208572Z",
     "shell.execute_reply": "2025-06-03T00:56:18.207812Z"
    },
    "papermill": {
     "duration": 1.481966,
     "end_time": "2025-06-03T00:56:18.210238",
     "exception": false,
     "start_time": "2025-06-03T00:56:16.728272",
     "status": "completed"
    },
    "tags": []
   },
   "outputs": [],
   "source": [
    "from sklearn.preprocessing import LabelEncoder\n",
    "\n",
    "# 変数PassengerIdを除外する\n",
    "train_X = train_X.drop(['PassengerId'], axis=1)\n",
    "test_X = test_X.drop(['PassengerId'], axis=1)\n",
    "\n",
    "# 変数Name, Ticket, Cabinを除外する\n",
    "train_X = train_X.drop(['Name', 'Ticket', 'Cabin'], axis=1)\n",
    "test_X = test_X.drop(['Name', 'Ticket', 'Cabin'], axis=1)\n",
    "\n",
    "# それぞれのカテゴリ変数にLabel Encodingを適用する\n",
    "for c in ['Sex', 'Embarked']:\n",
    "    le = LabelEncoder()\n",
    "    train_X[c] = le.fit_transform(train_X[c].fillna('NA'))  # 学習データを変換\n",
    "    test_X[c] = le.transform(test_X[c].fillna('NA'))  # テストデータを変換\n",
    "\n",
    "# ここで、'Sex'と'Embarked'のカテゴリ変数が数値に変換されます\n"
   ]
  },
  {
   "cell_type": "code",
   "execution_count": 4,
   "id": "49eece61",
   "metadata": {
    "execution": {
     "iopub.execute_input": "2025-06-03T00:56:18.216875Z",
     "iopub.status.busy": "2025-06-03T00:56:18.216128Z",
     "iopub.status.idle": "2025-06-03T00:56:18.681326Z",
     "shell.execute_reply": "2025-06-03T00:56:18.680469Z"
    },
    "papermill": {
     "duration": 0.470261,
     "end_time": "2025-06-03T00:56:18.683080",
     "exception": false,
     "start_time": "2025-06-03T00:56:18.212819",
     "status": "completed"
    },
    "tags": []
   },
   "outputs": [],
   "source": [
    "from xgboost import XGBClassifier  # クラス名を修正\n",
    "\n",
    "# モデルの作成および学習データを与えての学習\n",
    "model = XGBClassifier(n_estimators=20, random_state=71)  # XGBClassfier -> XGBClassifier\n",
    "model.fit(train_X, train_y)\n",
    "\n",
    "# テストデータの予測値を確率で出力する\n",
    "pred = model.predict_proba(test_X)[:, 1]\n",
    "\n",
    "# テストデータの予測値を二値に変換する\n",
    "pred_label = np.where(pred > 0.5, 1, 0)\n",
    "\n",
    "# 提出用ファイルの作成\n",
    "submission = pd.DataFrame({'PassengerId': test['PassengerId'], 'Survived': pred_label})\n",
    "submission.to_csv('submission_first.csv', index=False)"
   ]
  },
  {
   "cell_type": "code",
   "execution_count": 5,
   "id": "c5ec8514",
   "metadata": {
    "execution": {
     "iopub.execute_input": "2025-06-03T00:56:18.689148Z",
     "iopub.status.busy": "2025-06-03T00:56:18.688492Z",
     "iopub.status.idle": "2025-06-03T00:56:18.811287Z",
     "shell.execute_reply": "2025-06-03T00:56:18.809413Z"
    },
    "papermill": {
     "duration": 0.127565,
     "end_time": "2025-06-03T00:56:18.813111",
     "exception": false,
     "start_time": "2025-06-03T00:56:18.685546",
     "status": "completed"
    },
    "tags": []
   },
   "outputs": [
    {
     "name": "stdout",
     "output_type": "stream",
     "text": [
      "logloss:0.4360, accuracy:0.8260\n"
     ]
    }
   ],
   "source": [
    "from sklearn.metrics import log_loss, accuracy_score\n",
    "from sklearn.model_selection import KFold\n",
    "from xgboost import XGBClassifier\n",
    "import numpy as np\n",
    "\n",
    "# 各foldのスコアを保存するリスト\n",
    "scores_accuracy = []\n",
    "scores_logloss = []\n",
    "\n",
    "# クロスバリデーションを行う\n",
    "# 学習データを４つに分割し、うち１つをバリデーションデータとすることを、バリデーションデータを変えて繰り返す\n",
    "kf = KFold(n_splits=4, shuffle=True, random_state=71)\n",
    "for tr_idx, va_idx in kf.split(train_X):  # コロンを追加\n",
    "    # 学習デーやを学習データとバリデーションデータに分ける\n",
    "    tr_X, va_X = train_X.iloc[tr_idx], train_X.iloc[va_idx]\n",
    "    tr_y, va_y = train_y.iloc[tr_idx], train_y.iloc[va_idx] \n",
    "\n",
    "    # モデルの学習を行う\n",
    "    model = XGBClassifier(n_estimators=20, random_state=71)\n",
    "    model.fit(tr_X, tr_y)\n",
    "\n",
    "    # バリデーションデータの予測値を確率で出力する\n",
    "    va_pred = model.predict_proba(va_X)[:, 1]\n",
    "\n",
    "    # バリデーションデータでのスコアを計算する\n",
    "    logloss = log_loss(va_y, va_pred)\n",
    "    accuracy = accuracy_score(va_y, va_pred > 0.5)\n",
    "\n",
    "    # そのfoldのスコアを保存する\n",
    "    scores_logloss.append(logloss)\n",
    "    scores_accuracy.append(accuracy)\n",
    "\n",
    "# 各foldのスコアの平均を出力する\n",
    "logloss = np.mean(scores_logloss)\n",
    "accuracy = np.mean(scores_accuracy)\n",
    "print(f'logloss:{logloss:.4f}, accuracy:{accuracy:.4f}')\n"
   ]
  },
  {
   "cell_type": "code",
   "execution_count": 6,
   "id": "133c88f5",
   "metadata": {
    "execution": {
     "iopub.execute_input": "2025-06-03T00:56:18.819537Z",
     "iopub.status.busy": "2025-06-03T00:56:18.819230Z",
     "iopub.status.idle": "2025-06-03T00:56:19.691335Z",
     "shell.execute_reply": "2025-06-03T00:56:19.690548Z"
    },
    "papermill": {
     "duration": 0.877415,
     "end_time": "2025-06-03T00:56:19.693177",
     "exception": false,
     "start_time": "2025-06-03T00:56:18.815762",
     "status": "completed"
    },
    "tags": []
   },
   "outputs": [
    {
     "name": "stdout",
     "output_type": "stream",
     "text": [
      "max_depth: 3,min_child_weight:4.0\n"
     ]
    }
   ],
   "source": [
    "import itertools\n",
    "\n",
    "# チューニング候補とするパラメータを準備する\n",
    "param_space = {\n",
    "    'max_depth':[3,5,7],\n",
    "    'min_child_weight':[1.0,2.0,4.0]\n",
    "}\n",
    "\n",
    "# 探索するハイパーパラメータの組み合わせ\n",
    "param_combinations = itertools.product(param_space['max_depth'],param_space['min_child_weight'])\n",
    "\n",
    "# 各パラメータの組み合わせ、それに対するスコアを保存するリスト\n",
    "params = []\n",
    "scores = []\n",
    "\n",
    "# 各パラメータの組み合わせごとに、クロスバリデーションで評価を行う\n",
    "for max_depth,min_child_weight in param_combinations:\n",
    "    score_folds = []\n",
    "    # クロスバリデーションを行う\n",
    "    # 学習データを４つに分割し、うち１つをバリデーションデータとすることを、バリデーションデータを変えて繰り返す\n",
    "    kf = KFold(n_splits=4, shuffle=True, random_state=123456)\n",
    "    for tr_idx, va_idx in kf.split(train_X):\n",
    "        #学習データを学習データとバリデーションデータに分ける\n",
    "        tr_X,va_X = train_X.iloc[tr_idx], train_X.iloc[va_idx]\n",
    "        tr_y,va_y = train_y.iloc[tr_idx], train_y.iloc[va_idx]\n",
    "\n",
    "        #モデルの学習を行う\n",
    "        model = XGBClassifier(n_estimators=20, random_state=71,max_depth=max_depth,min_child_weight=min_child_weight)\n",
    "        model.fit(tr_X,tr_y)\n",
    "\n",
    "        # バリデーションデータでのスコアを計算し、保存する\n",
    "        va_pred = model.predict_proba(va_X)[:,1]\n",
    "        logloss = log_loss(va_y, va_pred)\n",
    "        score_folds.append(logloss)\n",
    "\n",
    "    # 各foldのスコアを平均する\n",
    "    score_mean = np.mean(score_folds)\n",
    "\n",
    "    # パラメータの組み合わせ、それに対するスコアを保存する\n",
    "    params.append((max_depth, min_child_weight))\n",
    "    scores.append(score_mean)\n",
    "\n",
    "# 最もスコアが良いものをベストなパラメータとする\n",
    "best_idx = np.argsort(scores)[0]\n",
    "best_param = params[best_idx]\n",
    "print(f'max_depth: {best_param[0]},min_child_weight:{best_param[1]}')"
   ]
  }
 ],
 "metadata": {
  "kaggle": {
   "accelerator": "none",
   "dataSources": [
    {
     "databundleVersionId": 26502,
     "sourceId": 3136,
     "sourceType": "competition"
    }
   ],
   "dockerImageVersionId": 31040,
   "isGpuEnabled": false,
   "isInternetEnabled": true,
   "language": "python",
   "sourceType": "notebook"
  },
  "kernelspec": {
   "display_name": "Python 3",
   "language": "python",
   "name": "python3"
  },
  "language_info": {
   "codemirror_mode": {
    "name": "ipython",
    "version": 3
   },
   "file_extension": ".py",
   "mimetype": "text/x-python",
   "name": "python",
   "nbconvert_exporter": "python",
   "pygments_lexer": "ipython3",
   "version": "3.11.11"
  },
  "papermill": {
   "default_parameters": {},
   "duration": 10.49129,
   "end_time": "2025-06-03T00:56:20.314602",
   "environment_variables": {},
   "exception": null,
   "input_path": "__notebook__.ipynb",
   "output_path": "__notebook__.ipynb",
   "parameters": {},
   "start_time": "2025-06-03T00:56:09.823312",
   "version": "2.6.0"
  }
 },
 "nbformat": 4,
 "nbformat_minor": 5
}
