{
 "cells": [
  {
   "attachments": {},
   "cell_type": "markdown",
   "metadata": {
    "id": "ZasHaANFwpj8"
   },
   "source": [
    "# 2. MLP基礎\n",
    "## 概要\n",
    "この試験ではChapter02で学習した、深層学習の基礎である多層パーセプトロンを穴埋め形式で実装します。<br>\n",
    "予め用意されたコード（訓練用・テスト用データの取得、ミニバッチ学習など）はそのまま使用し、指示された穴埋め部（順伝播と誤差逆伝播）を編集してください。<br>\n",
    "試験問題文は<font color=\"Red\">赤字</font>で表示されています。<br>このファイルは必ず最後までコードをすべて実行し、「最後までコードが実行可能」・「学習結果の出力がある」・「学習が成功している」の３つを満たした状態で提出してください。\n",
    "\n",
    "所要時間：3~5時間"
   ]
  },
  {
   "attachments": {},
   "cell_type": "markdown",
   "metadata": {
    "id": "i2fJuwinlOPU"
   },
   "source": [
    "### 【Google colabのみ実行】ライブラリのインストール\n",
    "\n",
    "必要なライブラリのインストールと、実行環境のバージョンを統一します。<br>\n",
    "\n",
    "使用するライブラリ名とバージョンは配布資料の<font color=Red>「requirements.txt」</font>で確認できます。\n",
    "\n",
    "※以下のセルを実行しましたら、「ランタイム」→「ランタイムを再起動」により<font color=Red>再起動</font>を行ってください。"
   ]
  },
  {
   "cell_type": "code",
   "execution_count": 1,
   "metadata": {
    "id": "eW7MZHB0nm6Z"
   },
   "outputs": [
    {
     "name": "stdout",
     "output_type": "stream",
     "text": [
      "Not Google Colab\n"
     ]
    }
   ],
   "source": [
    "import sys\n",
    "\n",
    "# Google colab環境であるか判定\n",
    "if \"google.colab\" in sys.modules:\n",
    "    print(\"Google Colab\")\n",
    "    # ライブラリのインストール\n",
    "    %pip install --no-warn-conflicts opencv-python==4.8.1.78\n",
    "else:\n",
    "    print(\"Not Google Colab\")"
   ]
  },
  {
   "attachments": {},
   "cell_type": "markdown",
   "metadata": {
    "id": "y2V7ToPKgqnn"
   },
   "source": [
    "### 【Google colabのみ実行】ドライブのマウント\n",
    "\n",
    "Google Colabでは、**マウント**という作業を行って、Googleドライブ内のファイルを操作できる状態にする必要があります。<br>\n",
    "<br>\n",
    "以下のコードを実行してマウントしてください。なお、認証で**Googleアカウントへのログインが必要**になります。"
   ]
  },
  {
   "cell_type": "code",
   "execution_count": 2,
   "metadata": {
    "id": "VqfbG0AQhK8y"
   },
   "outputs": [
    {
     "name": "stdout",
     "output_type": "stream",
     "text": [
      "Not Google Colab\n"
     ]
    }
   ],
   "source": [
    "import sys\n",
    "\n",
    "# Google colab環境であるか判定\n",
    "if \"google.colab\" in sys.modules:\n",
    "    # マウントを行う\n",
    "    from google.colab import drive\n",
    "    drive.mount(\"/content/drive\")\n",
    "else:\n",
    "    print(\"Not Google Colab\")"
   ]
  },
  {
   "attachments": {},
   "cell_type": "markdown",
   "metadata": {
    "id": "FORhYgdjha1N"
   },
   "source": [
    "### ファイル操作\n",
    "\n",
    "手持ちのデータをcolabで使用するには、データをGoogleドライブ内のフォルダに上げる必要があります。<br>\n",
    "\n",
    "**画面左側のファイルマークのボタン**をクリックして、ドライブ内のファイルリストを開いてください。<br>\n",
    "\n",
    "すると「drive」「sample_data」というフォルダがあり、「drive」がマイドライブや共有ドライブの入っているフォルダになります。<br>\n",
    "<br>\n",
    "この「drive」フォルダの中でアップロードしたい場所を選び、**右クリック(または3点リーダー「⋮」をクリック)から「アップロード」を押して**、今回使用するファイル<font color=\"Red\">「train_data.csv」「test_data.csv」</font>をアップしましょう。<br>\n",
    "<br>\n",
    "アップロードしたファイルをコードの関数内で参照する際は右クリックで「パスをコピー」を選択し、コードに貼り付けましょう。<br>"
   ]
  },
  {
   "attachments": {},
   "cell_type": "markdown",
   "metadata": {
    "id": "poyscwJcwpj8"
   },
   "source": [
    "## 回帰モデル試験（スクラッチ）"
   ]
  },
  {
   "attachments": {},
   "cell_type": "markdown",
   "metadata": {
    "id": "toSmtFwyadv8"
   },
   "source": [
    "### データの準備"
   ]
  },
  {
   "attachments": {},
   "cell_type": "markdown",
   "metadata": {
    "id": "GlCV4u18WzKQ"
   },
   "source": [
    "#### ライブラリのインポート\n",
    "\n",
    "必要なライブラリをインポートします。エラーになる場合は該当するものをインストールしてください。"
   ]
  },
  {
   "cell_type": "code",
   "execution_count": 3,
   "metadata": {
    "id": "m4gMxEGbWydq"
   },
   "outputs": [],
   "source": [
    "import csv\n",
    "import os\n",
    "import pickle\n",
    "import sys\n",
    "\n",
    "import cv2\n",
    "import matplotlib.pyplot as plt\n",
    "import numpy as np\n",
    "from mpl_toolkits.mplot3d import Axes3D\n",
    "from sklearn import datasets\n",
    "from sklearn.model_selection import train_test_split\n",
    "\n",
    "%matplotlib inline\n",
    "# \"%matplotlib inline\" の代わりに以下のコマンドを使用できる場合、3次元で座標軸を操作可能なプロットを表示することができます。\n",
    "# %matplotlib notebook\n",
    "\n",
    "# 乱数シードを指定\n",
    "np.random.seed(seed=0)"
   ]
  },
  {
   "attachments": {},
   "cell_type": "markdown",
   "metadata": {
    "id": "3TQ5X8MGXAXQ"
   },
   "source": [
    "#### データの３次元散布図を作成する関数\n",
    "\n",
    "データ可視化に使用します。試験の問題とは関係ありませんので読み飛ばしてください。"
   ]
  },
  {
   "cell_type": "code",
   "execution_count": 4,
   "metadata": {
    "id": "1w57CxJgW_3C"
   },
   "outputs": [],
   "source": [
    "def plot_data(data, name=\"Data Plot\"):\n",
    "    \"\"\"3D散布図を描画する関数\n",
    "\n",
    "    Args:\n",
    "        data (numpy.ndarray): 描画するデータのnumpy配列。各行は(x0, x1, y)の形式である必要があります。\n",
    "        name (str, optional): グラフのタイトル。デフォルトは'Data Plot'です。\n",
    "\n",
    "    \"\"\"\n",
    "    # グラフ作成\n",
    "    fig = plt.figure()\n",
    "    ax = fig.add_subplot(111, projection=\"3d\")\n",
    "\n",
    "    # 軸ラベルの設定\n",
    "    ax.set_xlabel(\"X0-axis\")\n",
    "    ax.set_ylabel(\"X1-axis\")\n",
    "    ax.set_zlabel(\"Y-axis\")\n",
    "\n",
    "    # 表示範囲の設定\n",
    "    ax.set_xlim(-2, 2)\n",
    "    ax.set_ylim(-2, 2)\n",
    "    ax.set_zlim(0, 10)\n",
    "\n",
    "    ax.plot(data[:, 0], data[:, 1], data[:, 2], \"o\", color=\"#ff2222\", ms=2, mew=0.5)\n",
    "    ax.set_title(name)\n",
    "    plt.show()"
   ]
  },
  {
   "attachments": {},
   "cell_type": "markdown",
   "metadata": {
    "id": "wNH-bUqaX5Ry"
   },
   "source": [
    "#### データの読み込み\n",
    "\n",
    "この試験では、train_data.csvを訓練用データ、test_data.csvをテスト用データとして使用します。データはx0, x1, yの3列からなり、以下の式に従っています。\n",
    "\n",
    "$$ y = \\left\\{ \\begin{array}{ll} (x_0-1)^2 + (x_1-1)^2 & (x_0 \\gt 0) \\\\ (x_0+1)^2 + (x_1+1)^2 & (x_0 \\leq 0) \\end{array} \\right. $$\n",
    "\n",
    "訓練データ10000個の(x0, x1, y)の組を多層パーセプトロンで学習し、テストデータ2000個の学習におけるコストの推移を観測します。\n",
    "まずはデータのプロットを表示してみます。\n",
    "\n",
    "※ここでエラーとなっている場合はライブラリのインポートが完了していないか、正常にデータを読み込めていません。同ディレクトリ内にダウンロードした`train_data.csv`と`test_data.csv`が存在していることを確認してください。"
   ]
  },
  {
   "cell_type": "code",
   "execution_count": 5,
   "metadata": {
    "id": "_980SHGpX4ux"
   },
   "outputs": [
    {
     "data": {
      "image/png": "[encoded data removed]",
      "text/plain": [
       "<Figure size 640x480 with 1 Axes>"
      ]
     },
     "metadata": {},
     "output_type": "display_data"
    }
   ],
   "source": [
    "# Pathの設定\n",
    "if \"google.colab\" in sys.modules:\n",
    "    train_path = \"/content/drive/MyDrive/train_data.csv\"\n",
    "    test_path = \"/content/drive/MyDrive/test_data.csv\"\n",
    "else:\n",
    "    train_path = \"train_data.csv\"\n",
    "    test_path = \"test_data.csv\"\n",
    "\n",
    "# データの読み込み\n",
    "with open(train_path) as f:\n",
    "    reader = csv.reader(f)\n",
    "    train_data = np.array([[float(x) for x in row] for row in reader])\n",
    "with open(test_path) as f:\n",
    "    reader = csv.reader(f)\n",
    "    test_data = np.array([[float(x) for x in row] for row in reader])\n",
    "\n",
    "# 訓練データを可視化\n",
    "plot_data(train_data, \"Train Data\")"
   ]
  },
  {
   "attachments": {},
   "cell_type": "markdown",
   "metadata": {
    "id": "nCT224W1YFil"
   },
   "source": [
    "#### データの数\n",
    "\n",
    "訓練時とテスト時で扱うデータ数を確認します。"
   ]
  },
  {
   "cell_type": "code",
   "execution_count": 6,
   "metadata": {
    "id": "1cjxlH_SYFAJ"
   },
   "outputs": [
    {
     "name": "stdout",
     "output_type": "stream",
     "text": [
      "訓練データの数:  10000\n",
      "テストデータの数:  2000\n"
     ]
    }
   ],
   "source": [
    "N_train = train_data.shape[0]\n",
    "print(\"訓練データの数: \", N_train)\n",
    "N_test = test_data.shape[0]\n",
    "print(\"テストデータの数: \", N_test)"
   ]
  },
  {
   "attachments": {},
   "cell_type": "markdown",
   "metadata": {
    "id": "o_Kbt24HaoWl"
   },
   "source": [
    "### 活性化関数"
   ]
  },
  {
   "attachments": {},
   "cell_type": "markdown",
   "metadata": {
    "id": "cxi6a480HLWa"
   },
   "source": [
    "#### ReLU関数\n",
    "\n",
    "* <font color=\"Red\">問1. ReLUを完成させてください。</font>\n",
    "\n",
    "```\n",
    "引数:\n",
    "    v: [N, M] (np.float64)\n",
    "       Nはバッチサイズにあたる\n",
    "返値:\n",
    "    [N, M] (np.float64)\n",
    "```\n",
    "\n",
    "- 以下の式で定義されるrelu関数を実装します。\n",
    "$$ \\text{ReLU}(x) = \\left\\{ \\begin{array}{ll} x & (x \\gt 0) \\\\ 0 & (x \\leq 0) \\end{array} \\right. $$\n",
    "- 引数`v`の各要素と0の大きい方を取り、`x`とします。\n",
    "- ヒント: np.maximum()"
   ]
  },
  {
   "cell_type": "code",
   "execution_count": 7,
   "metadata": {
    "id": "YdQtn9FRIiSW"
   },
   "outputs": [],
   "source": [
    "def relu(v):\n",
    "    \"\"\"ReLU (Rectified Linear Activation) 関数を適用します。\n",
    "\n",
    "    Args:\n",
    "        v (float or np.ndarray): 入力値。スカラーまたはNumPy配列が許容されます。\n",
    "\n",
    "    Returns:\n",
    "        float or np.ndarray: ReLU関数を適用した後の値。入力がスカラーの場合はスカラー、配列の場合は同じ形状の配列を返します。\n",
    "\n",
    "    Raises:\n",
    "        TypeError: 入力がスカラー値やNumPy配列でない場合。\n",
    "\n",
    "    例:\n",
    "        >>> relu(-5)\n",
    "        0\n",
    "        >>> relu(3)\n",
    "        3\n",
    "        >>> relu(np.array([-5, 3]))\n",
    "        array([0, 3])\n",
    "    \"\"\"\n",
    "    x =  np.maximum(0, v) ### 問1 ###\n",
    "    return x"
   ]
  },
  {
   "cell_type": "code",
   "execution_count": 8,
   "metadata": {},
   "outputs": [
    {
     "name": "stdout",
     "output_type": "stream",
     "text": [
      "relu(1) = 1\n",
      "relu(-2) = 0\n",
      "relu(0.1) = 0.1 \n",
      "relu(-0.5) = 0.0\n"
     ]
    }
   ],
   "source": [
    "print(f\"{relu(1) = }\")  # -> 1\n",
    "print(f\"{relu(-2) = }\")  # -> 0\n",
    "print(f\"{relu(0.1) = } \")  # -> 0.1\n",
    "print(f\"{relu(-0.5) = }\")  # -> 0"
   ]
  },
  {
   "attachments": {},
   "cell_type": "markdown",
   "metadata": {
    "id": "lScMpGjtHl55"
   },
   "source": [
    "#### softmax関数\n",
    "\n",
    "* <font color=\"Red\">問2. softmax関数を完成させてください。</font>\n",
    "\n",
    "```plaintext\n",
    "引数:\n",
    "    x: [N, M] (np.float64)\n",
    "       Nはバッチサイズにあたる\n",
    "返値:\n",
    "    [N, M] (np.float64)\n",
    "```\n",
    "\n",
    "バッチ計算が可能なsoftmax関数を実装します。\\\n",
    "exp関数がオーバーフローすることを防ぐために、各データについて入力信号の最大値を引いて、0以下にします。\\\n",
    "numpyでは `[N, M] - [N]` の計算はブロードキャストができませんので、`x` を転置し `[M, N] - [N]` の形で計算を行ったあと、さらに転置をして元の形に戻します。\n",
    "\n",
    "$$\n",
    "\\begin{align*}\n",
    "  \\text{Softmax}(x_{ij}) &= \\frac{\\exp (x_{ij}^{\\prime})}{\\sum_{k=1}^M \\exp (x_{ik}^{\\prime})} \\\\\n",
    "  x_{ij}^\\prime &= x_{ij} - \\max_{j}(x_{ij})\n",
    "\\end{align*}\n",
    "$$"
   ]
  },
  {
   "cell_type": "code",
   "execution_count": 9,
   "metadata": {
    "id": "kY7r_2G9HfB3"
   },
   "outputs": [],
   "source": [
    "def softmax(x):\n",
    "    \"\"\"ソフトマックス関数を適用して、入力行列の各列に対する確率分布を計算します。\n",
    "\n",
    "    Args:\n",
    "        x (numpy.ndarray): ソフトマックスを適用する入力行列。各列は異なるサンプルまたは特徴量を表す。\n",
    "\n",
    "    Returns:\n",
    "        numpy.ndarray: ソフトマックスが適用された確率分布を表す行列。\n",
    "\n",
    "    Raises:\n",
    "        TypeError: 入力がスカラー値やNumPy配列でない場合。\n",
    "\n",
    "    例:\n",
    "    >>> x = np.array([[2.0, 1.0, 0.1],\n",
    "    ...               [1.0, 3.0, 0.2]])\n",
    "    >>> result = softmax(x)\n",
    "    >>> print(result)\n",
    "    array([[0.65900114, 0.24243297, 0.09856589],\n",
    "           [0.11314284, 0.8360188 , 0.05083836]])\n",
    "\n",
    "    注:\n",
    "    - ソフトマックス関数は、入力行列の各列を確率分布に変換します。\n",
    "    - 入力行列の各要素は指数関数によって変換され、その合計が1になります。\n",
    "    - 入力行列の形状は保持され、各列が独立して処理されます。\n",
    "\n",
    "    \"\"\"\n",
    "    x = x.T\n",
    "    x = x - np.max(x, axis=0, keepdims=True) ### 問2-1 ###\n",
    "    x = np.exp(x)\n",
    "    x = x / np.sum(x, axis=0, keepdims=True) ### 問2-2 ###\n",
    "    return x.T"
   ]
  },
  {
   "cell_type": "code",
   "execution_count": 10,
   "metadata": {},
   "outputs": [
    {
     "name": "stdout",
     "output_type": "stream",
     "text": [
      "[[0.65900114 0.24243297 0.09856589]\n",
      " [0.11314284 0.8360188  0.05083836]]\n"
     ]
    }
   ],
   "source": [
    "x = np.array([[2.0, 1.0, 0.1],\n",
    "              [1.0, 3.0, 0.2]])\n",
    "result = softmax(x)\n",
    "print(result)"
   ]
  },
  {
   "attachments": {},
   "cell_type": "markdown",
   "metadata": {
    "id": "E6Km45bzLOE_"
   },
   "source": [
    "#### sigmoid関数\n",
    "* <font color=\"Red\">問3. sigmoid関数を完成させてください。</font>\n",
    "\n",
    "```\n",
    "引数:\n",
    "    x: [N, M] (np.float64)\n",
    "       Nはバッチサイズにあたる\n",
    "返値:\n",
    "    [N, M] (np.float64)\n",
    "```\n",
    "\n",
    "バッチ計算が可能なsigmoid関数を実装します。<br>\n",
    "\n",
    "$$   \\text{Sigmoid}(x) = \\frac{1}{1 + \\exp(-x)} $$"
   ]
  },
  {
   "cell_type": "code",
   "execution_count": 11,
   "metadata": {
    "id": "1MFTS8oOJ-cP"
   },
   "outputs": [],
   "source": [
    "def sigmoid(x):\n",
    "    \"\"\"シグモイド関数を計算します。\n",
    "\n",
    "    シグモイド関数は、与えられた入力に対して0と1の間の値を返す関数です。主にニューラルネットワークの活性化関数として使用されます。\n",
    "\n",
    "    Args:\n",
    "        x (float or np.ndarray): シグモイド関数の入力となる実数またはNumPyの配列。\n",
    "\n",
    "    Returns:\n",
    "        float or np.ndarray: 入力の各要素に対するシグモイド関数の結果。\n",
    "\n",
    "    Raises:\n",
    "        TypeError: 入力xがfloatまたはnp.ndarray型ではない場合。\n",
    "        OverflowError: 入力xの絶対値が大きすぎて、計算中にオーバーフローが発生した場合。\n",
    "\n",
    "    例:\n",
    "        >>> sigmoid(0)\n",
    "        0.5\n",
    "        >>> sigmoid(np.array([-1, 0, 1]))\n",
    "        array([0.26894142, 0.5       , 0.73105858])\n",
    "\n",
    "    \"\"\"\n",
    "    return 1 / (1 + np.exp(-x)) ### 問3 ###"
   ]
  },
  {
   "cell_type": "code",
   "execution_count": 12,
   "metadata": {},
   "outputs": [
    {
     "data": {
      "text/plain": [
       "0.5"
      ]
     },
     "execution_count": 12,
     "metadata": {},
     "output_type": "execute_result"
    }
   ],
   "source": [
    "sigmoid(0)"
   ]
  },
  {
   "cell_type": "code",
   "execution_count": 13,
   "metadata": {},
   "outputs": [
    {
     "data": {
      "text/plain": [
       "array([0.26894142, 0.5       , 0.73105858])"
      ]
     },
     "execution_count": 13,
     "metadata": {},
     "output_type": "execute_result"
    }
   ],
   "source": [
    "sigmoid(np.array([-1, 0, 1]))"
   ]
  },
  {
   "attachments": {},
   "cell_type": "markdown",
   "metadata": {
    "id": "I0o64EHJQdgQ"
   },
   "source": [
    "#### tanh関数\n",
    "* <font color=\"Red\">問4. tanh関数を完成させてください。</font>\n",
    "  * <font color=\"Red\">問4-1. tanh関数の分子にあたるsinh(双曲線正弦関数)の式を記述しましょう。</font>\n",
    "  * <font color=\"Red\">問4-2. tanh関数の分母にあたるcosh(双曲線余弦関数)の式を記述しましょう。</font>\n",
    "\n",
    "```\n",
    "引数:\n",
    "    x: [N, M] (np.float64)\n",
    "       Nはバッチサイズにあたる\n",
    "返値:\n",
    "    [N, M] (np.float64)\n",
    "```\n",
    "\n",
    "バッチ計算が可能なtanh関数を実装します。<br>\n",
    "tanh関数は以下のように定義されている。<br>\n",
    "\n",
    "$$   \\text{tanh}(x) = \\frac{\\exp(x) - \\exp(-x)}{\\exp(x) + \\exp(-x)} $$\n",
    "\n",
    "tanh関数はハイパボリックタンジェントやタンエイチと読み、sinh関数とcosh関数を用いて以下のように書き直すことができる。\n",
    "\n",
    "$$   \\text{tanh}(x) = \\frac{\\text{sinh}(x) }{\\text{cosh}(x) } $$\n",
    "\n",
    "sinh関数はハイパボリックサインやシャイン、cosh関数はハイパボリックコサインやコッシュと読み、以下のように定義されている。\n",
    "\n",
    "$$   \\text{sinh}(x) = \\frac{\\exp(x) - \\exp(-x)}{2} $$\n",
    "\n",
    "$$   \\text{cosh}(x) = \\frac{\\exp(x) + \\exp(-x)}{2} $$"
   ]
  },
  {
   "cell_type": "code",
   "execution_count": 14,
   "metadata": {
    "id": "i9YknOB0QZ-E"
   },
   "outputs": [],
   "source": [
    "def tanh(x):\n",
    "    \"\"\"双曲線正接関数を計算します。\n",
    "\n",
    "    双曲線正接関数は、双曲線正弦関数と双曲線余弦関数の比率として定義され、\n",
    "    与えられた入力に対して-1と1の間の値を返します。ニューラルネットワークの\n",
    "    活性化関数としてもよく使用されます。\n",
    "\n",
    "    Args:\n",
    "        x (float or np.ndarray): 双曲線正接関数の入力となる実数またはNumPyの配列。\n",
    "\n",
    "    Returns:\n",
    "        float or np.ndarray: 入力の各要素に対する双曲線正接関数の結果。\n",
    "\n",
    "    Raises:\n",
    "        TypeError: 入力xがfloatまたはnp.ndarray型ではない場合。\n",
    "        OverflowError: 入力xの絶対値が大きすぎて、計算中にオーバーフローが発生した場合。\n",
    "\n",
    "    例:\n",
    "        >>> tanh(0)\n",
    "        0.0\n",
    "        >>> tanh(np.array([-1, 0, 1]))\n",
    "        array([-0.76159416, 0.        , 0.76159416])\n",
    "\n",
    "    \"\"\"\n",
    "    sinh = (np.exp(x) - np.exp(-x)) / 2 ### 問4-1 ###\n",
    "    cosh = (np.exp(x) + np.exp(-x)) / 2 ### 問4-2 ###\n",
    "    return sinh / cosh"
   ]
  },
  {
   "cell_type": "code",
   "execution_count": 15,
   "metadata": {},
   "outputs": [
    {
     "data": {
      "text/plain": [
       "0.0"
      ]
     },
     "execution_count": 15,
     "metadata": {},
     "output_type": "execute_result"
    }
   ],
   "source": [
    "tanh(0)"
   ]
  },
  {
   "cell_type": "code",
   "execution_count": 16,
   "metadata": {},
   "outputs": [
    {
     "data": {
      "text/plain": [
       "array([-0.76159416,  0.        ,  0.76159416])"
      ]
     },
     "execution_count": 16,
     "metadata": {},
     "output_type": "execute_result"
    }
   ],
   "source": [
    "tanh(np.array([-1, 0, 1]))"
   ]
  },
  {
   "attachments": {},
   "cell_type": "markdown",
   "metadata": {
    "id": "kF11K8XMTdTr"
   },
   "source": [
    "#### Leaky ReLU関数\n",
    "\n",
    "* <font color=\"Red\">問5. Leaky ReLUを完成させてください。</font>\n",
    "\n",
    "```\n",
    "引数:\n",
    "    x: [N, M] (np.float64)\n",
    "       Nはバッチサイズにあたる\n",
    "返値:\n",
    "    [N, M] (np.float64)\n",
    "```\n",
    "\n",
    "- 以下の式で定義されるLeaky ReLU関数を実装します。\n",
    "\n",
    "$$ \\text{Leaky ReLU}(x,\\alpha) = \\left\\{ \\begin{array}{ll} x & (x \\gt 0) \\\\ \\alpha x & (x \\leq 0) \\end{array} \\right. $$\n",
    "- $\\alpha$は定数。"
   ]
  },
  {
   "cell_type": "code",
   "execution_count": 17,
   "metadata": {
    "id": "OC4PV3zcVgxk"
   },
   "outputs": [],
   "source": [
    "def lrelu(x, alpha=0.01):\n",
    "    \"\"\"Leaky ReLU活性化関数を計算します。\n",
    "\n",
    "    通常のReLU関数は負の値に対して0を返しますが、Leaky ReLUは負の値に対しても\n",
    "    わずかな勾配を持つように改良されています。\n",
    "\n",
    "    Args:\n",
    "        x (float or np.ndarray): Leaky ReLU関数の入力となる実数またはNumPyの配列。\n",
    "        alpha (float, optional): 負の値に対する勾配。デフォルトは0.01。\n",
    "\n",
    "    Returns:\n",
    "        float or np.ndarray: 入力の各要素に対するLeaky ReLU関数の結果。\n",
    "\n",
    "    Raises:\n",
    "        TypeError: 入力xやalphaが期待する型ではない場合。\n",
    "        OverflowError: 計算中にオーバーフローが発生した場合。\n",
    "\n",
    "    例:\n",
    "        >>> lrelu(-0.5)\n",
    "        -0.005\n",
    "        >>> lrelu(0.5)\n",
    "        0.5\n",
    "\n",
    "    \"\"\"\n",
    "    x = np.maximum(alpha*x, x) ### 問5 ###\n",
    "    return x"
   ]
  },
  {
   "cell_type": "code",
   "execution_count": 18,
   "metadata": {},
   "outputs": [
    {
     "data": {
      "text/plain": [
       "-0.005"
      ]
     },
     "execution_count": 18,
     "metadata": {},
     "output_type": "execute_result"
    }
   ],
   "source": [
    "lrelu(-0.5)"
   ]
  },
  {
   "cell_type": "code",
   "execution_count": 19,
   "metadata": {},
   "outputs": [
    {
     "data": {
      "text/plain": [
       "0.5"
      ]
     },
     "execution_count": 19,
     "metadata": {},
     "output_type": "execute_result"
    }
   ],
   "source": [
    "lrelu(0.5)"
   ]
  },
  {
   "attachments": {},
   "cell_type": "markdown",
   "metadata": {
    "id": "SoJM5r7VcFav"
   },
   "source": [
    "#### コスト関数 平均二乗誤差\n",
    "以下の式で定義される平均二乗誤差を実装します。出題範囲ではないですが、確認しておいてください。\n",
    "```\n",
    "引数:\n",
    "    t: [N, M] (np.float64)\n",
    "    y: [N, M] (np.float64)\n",
    "       Nはバッチサイズにあたる\n",
    "返値:\n",
    "    mse: [1] (np.float64)\n",
    "```\n",
    "\n",
    "\n",
    "$$\n",
    "\\text{MSE} = \\frac{1}{N} \\sum_{i=1}^{N} (t_{i}-y_{i})^2\n",
    "$$\n",
    "- `t`と`y`の差の2乗の平均を取り、`mse`とします。"
   ]
  },
  {
   "cell_type": "code",
   "execution_count": 20,
   "metadata": {
    "id": "qND0SGg-cDs2"
   },
   "outputs": [],
   "source": [
    "def MSE(t, y):\n",
    "    \"\"\"平均二乗誤差 (Mean Squared Error) を計算します。\n",
    "\n",
    "    MSEは、実際の値と予測値との差の二乗の平均として定義されます。\n",
    "\n",
    "    Args:\n",
    "        t (np.ndarray): 実際の値の配列。\n",
    "        y (np.ndarray): 予測値の配列。\n",
    "\n",
    "    Returns:\n",
    "        float: 平均二乗誤差の値。\n",
    "\n",
    "    Raises:\n",
    "        ValueError: 入力されるtとyの形状が異なる場合。\n",
    "        TypeError: tやyがNumPyの配列型ではない場合。\n",
    "\n",
    "    例:\n",
    "        >>> MSE(np.array([1, 2, 3]), np.array([1, 2.5, 3.5]))\n",
    "        0.16666666666666666\n",
    "\n",
    "    \"\"\"\n",
    "    mse = np.mean(np.square(t - y))\n",
    "    return mse"
   ]
  },
  {
   "attachments": {},
   "cell_type": "markdown",
   "metadata": {},
   "source": [
    "#### コスト関数 平均絶対誤差\n",
    "以下の式で定義される平均絶対誤差を実装します。出題範囲ではないですが、確認しておいてください。\n",
    "```\n",
    "引数:\n",
    "    t: [N, M] (np.float64)\n",
    "    y: [N, M] (np.float64)\n",
    "       Nはバッチサイズにあたる\n",
    "返値:\n",
    "    mae: [M] (np.float64)\n",
    "```\n",
    "\n",
    "$$\n",
    "\\text{MAE} = \\frac{1}{NM} \\sum_{i}^{N}\\sum_{j}^{M} |t_{ij}-y_{ij}|\n",
    "$$\n",
    "- `t`と`y`の差の絶対値の平均を取り、`mae`とします。\n",
    "- 今回のように、M=1（目的変数が一つ）である場合が多い"
   ]
  },
  {
   "cell_type": "code",
   "execution_count": 21,
   "metadata": {},
   "outputs": [],
   "source": [
    "def MAE(t, y):\n",
    "    \"\"\"平均絶対誤差 (Mean Absolute Error) を計算します。\n",
    "\n",
    "    MAEは、実際の値と予測値との差の絶対値の平均として定義されます。\n",
    "\n",
    "    Args:\n",
    "        t (np.ndarray): 実際の値の配列。\n",
    "        y (np.ndarray): 予測値の配列。\n",
    "\n",
    "    Returns:\n",
    "        float: 平均絶対誤差の値。\n",
    "\n",
    "    Raises:\n",
    "        ValueError: 入力されるtとyの形状が異なる場合。\n",
    "        TypeError: tやyがNumPyの配列型ではない場合。\n",
    "\n",
    "    例:\n",
    "        >>> MAE(np.array([1, 2, 3]), np.array([1, 2.5, 2]))\n",
    "        0.5\n",
    "\n",
    "    \"\"\"\n",
    "    mae = np.mean(np.abs(t - y))\n",
    "    return mae"
   ]
  },
  {
   "attachments": {},
   "cell_type": "markdown",
   "metadata": {
    "id": "XWJaA-LsbJOZ"
   },
   "source": [
    "### 多層パーセプトロンの定義\n",
    "\n",
    "<font color=\"Red\">問6. MLPクラスの順伝播forward関数を完成させてください。</font>\n",
    "* <font color=\"Red\">問6-1. 1層目の順伝播の処理を実装してください。</font>\n",
    "* <font color=\"Red\">問6-2. 2層目の順伝播の処理を実装してください。</font>\n",
    "* <font color=\"Red\">問6-3. 3層目の順伝播の処理を実装してください。</font>\n",
    "* <font color=\"Red\">問6-4. 4層目の順伝播の処理を実装してください。</font>\n",
    "\n",
    "- 以下の式で定義される順伝播を実装します。(Φは活性化関数)\n",
    "$$\n",
    "X_{i+1} = \\phi(X_i \\cdot W_i + B_i)\n",
    "$$    \n",
    "- 第1層`self.layer1`を定義します。入力層`self.layer0`と重み`self.w1`との行列積を取り、バイアス`self.b1`を加算します。そして活性化関数`relu`に渡します。\n",
    "- 第2層`self.layer2`を定義します。第1層`self.layer1`と重み`self.w2`との行列積を取り、バイアス`self.b2`を加算します。そして活性化関数`relu`に渡します。\n",
    "- 第3層`self.layer3`を定義します。第2層`self.layer2`と重み`self.w3`との行列積を取り、バイアス`self.b3`を加算します。そして活性化関数`relu`に渡します。\n",
    "- 出力層`self.out`を定義します。第3層`self.layer3`と重み`self.w4`との行列積を取り、バイアス`self.b4`を加算します。\n",
    "- 出力層では活性化関数Φは使用しないことに注意せよ\n",
    "- ヒント: np.dot()　もしくは np.matmul()\n",
    "\n",
    "<font color=\"Red\"> 問6. MLPクラスの逆伝播によって誤差と勾配を求めるbackward関数を完成させてください。</font>\n",
    "* <font color=\"Red\">問6-5. 出力層誤差delta4を求めてください。</font>\n",
    "* <font color=\"Red\">問6-6. 第3層誤差delta3を求めてください。</font>\n",
    "* <font color=\"Red\">問6-7. 第2層誤差delta2を求めてください。</font>\n",
    "* <font color=\"Red\">問6-8. 第1層誤差delta1を求めてください。</font>\n",
    "\n",
    "- 出力層誤差`delta4`を定義します。二乗誤差の微分なので、以下の式に従います。  <br>\n",
    "$$\n",
    "\\delta_{out} = \\frac{d(T-Y)^2}{dY} = -2(T-Y)\n",
    "$$　\n",
    "- 誤差逆伝播は以下の式に従います。\n",
    "$$\n",
    "\\delta_i = \\phi'(v_{i+1})*\\delta_{i+1} \\cdot W_{i+1}^t\n",
    "$$\n",
    "$$\n",
    "\\phi'(v_i) = \\left\\{ \\begin{array}{ll}  \\frac{d}{dv_i} v_i & (v_i \\gt 0) \\\\  \\frac{d}{dv_i} 0 & (v_i \\leq 0) \\end{array} \\right. = \n",
    "                \\left\\{ \\begin{array}{ll} 1 & (v_i \\gt 0) \\\\ 0 & (v_i \\leq 0) \\end{array} \\right.\n",
    "$$\n",
    "- 第3層誤差`delta3`を定義します。出力層誤差`delta4`と重み`self.w4`の転置との行列積を取ります。\n",
    "- 第2層誤差`delta2`を定義します。第3層誤差`delta3`と第3層`self.layer3`におけるreluの微分との積をとり、重み`self.w3`の転置との行列積を取ります。\n",
    "- 第1層誤差`delta1`を定義します。第2層誤差`delta2`と第2層`self.layer2`におけるreluの微分との積をとり、重み`self.w2`の転置との行列積を取ります。\n",
    "- ヒント: numpy.dot(), numpy.transpose(), numpy.where()\n",
    "- ヒント: reluの微分は該当する層の各要素が0より大きいものは1, 0以下のものは0としたベクトルに等しい"
   ]
  },
  {
   "cell_type": "code",
   "execution_count": 22,
   "metadata": {
    "id": "zJrqfSU5a5g5"
   },
   "outputs": [],
   "source": [
    "# 回帰モデル\n",
    "class MLP_regressor:\n",
    "    \"\"\"多層パーセプトロン (Multi Layered Perceptron) ベースの回帰モデル。\n",
    "\n",
    "    このクラスは4層のニューラルネットワークを実装しています。\n",
    "    ネットワークの構造は以下の通りです:\n",
    "    [入力層(2ノード), 第1隠れ層(50ノード), 第2隠れ層(50ノード), 第3隠れ層(10ノード), 出力層(1ノード)]\n",
    "\n",
    "    Attributes:\n",
    "        w1 (ndarray): 第1隠れ層の重み。\n",
    "        w2 (ndarray): 第2隠れ層の重み。\n",
    "        w3 (ndarray): 第3隠れ層の重み。\n",
    "        w4 (ndarray): 出力層の重み。\n",
    "        b1 (ndarray): 第1隠れ層のバイアス。\n",
    "        b2 (ndarray): 第2隠れ層のバイアス。\n",
    "        b3 (ndarray): 第3隠れ層のバイアス。\n",
    "        b4 (ndarray): 出力層のバイアス。\n",
    "        layer0 (ndarray): 入力層のアクティベーション。\n",
    "        layer1 (ndarray): 第1隠れ層のアクティベーション。\n",
    "        layer2 (ndarray): 第2隠れ層のアクティベーション。\n",
    "        layer3 (ndarray): 第3隠れ層のアクティベーション。\n",
    "        out (ndarray): ネットワークの出力。\n",
    "        dedw1 (ndarray): 第1層の重みに対するコスト関数の勾配。形状は[2, 50]。\n",
    "        dedw2 (ndarray): 第2層の重みに対するコスト関数の勾配。形状は[50, 50]。\n",
    "        dedw3 (ndarray): 第3層の重みに対するコスト関数の勾配。形状は[50, 10]。\n",
    "        dedw4 (ndarray): 第4層（出力層）の重みに対するコスト関数の勾配。形状は[10, 1]。\n",
    "    \"\"\"\n",
    "\n",
    "    def __init__(self):\n",
    "        \"\"\"MLP_regressorの初期化メソッド。\n",
    "        重みとバイアスを初期化する。\n",
    "\n",
    "        コンストラクタ\n",
    "        パラメータ（重みw, バイアスb）の定義\n",
    "        第1層重み self.w1: [2, 50] 平均0, 標準偏差0.1の乱数\n",
    "        第2層重み self.w2: [50, 50] 平均0, 標準偏差0.1の乱数\n",
    "        第3層重み self.w3: [50, 10] 平均0, 標準偏差0.1の乱数\n",
    "        第4層重み self.w4: [10, 1] 平均0, 標準偏差0.1の乱数\n",
    "\n",
    "        第1層バイアス self.b1: [50] 要素が全て0\n",
    "        第2層バイアス self.b2: [50] 要素が全て0\n",
    "        第3層バイアス self.b3: [10] 要素が全て0\n",
    "        第4層バイアス self.b4: [1] 要素が全て0\n",
    "\n",
    "        numpyの乱数については以下のページを参照\n",
    "        https://numpy.org/doc/stable/reference/random/generated/numpy.random.randn.html\n",
    "        \"\"\"\n",
    "\n",
    "        # 重みの定義\n",
    "        self.w1 = np.random.randn(2, 50) * 0.1\n",
    "        self.w2 = np.random.randn(50, 50) * 0.1\n",
    "        self.w3 = np.random.randn(50, 10) * 0.1\n",
    "        self.w4 = np.random.randn(10, 1) * 0.1\n",
    "\n",
    "        # バイアスの定義\n",
    "        self.b1 = np.zeros(50, dtype=float)\n",
    "        self.b2 = np.zeros(50, dtype=float)\n",
    "        self.b3 = np.zeros(10, dtype=float)\n",
    "        self.b4 = np.zeros(1, dtype=float)\n",
    "\n",
    "    def forward(self, x):\n",
    "        \"\"\"順伝播\n",
    "        Args:\n",
    "            x (ndarray): 入力データ。形状は[N, 2]。\n",
    "\n",
    "        Returns:\n",
    "            ndarray: ネットワークの出力。形状は[N, 1]。\n",
    "\n",
    "        入力 x: [N, 2]\n",
    "        入力層 self.layer0: [N, 2]\n",
    "        第1層 self.layer1: [N, 50]\n",
    "        第2層 self.layer2: [N, 50]\n",
    "        第3層 self.layer3: [N, 10]\n",
    "        出力層 self.out: [N, 1]\n",
    "        \"\"\"\n",
    "\n",
    "        self.layer0 = x\n",
    "        self.z1 = np.dot(self.layer0, self.w1) + self.b1\n",
    "        self.layer1 = relu(self.z1) ### 問6-1 ###\n",
    "        self.z2 = np.dot(self.layer1, self.w2) + self.b2\n",
    "        self.layer2 = relu(self.z2)    ### 問6-2 ###\n",
    "        self.z3 = np.dot(self.layer2, self.w3) + self.b3\n",
    "        self.layer3 = relu(self.z3) ### 問6-3 ###\n",
    "        self.out =  np.dot(self.layer3, self.w4) + self.b4 ### 問6-4 ###\n",
    "        return self.out\n",
    "\n",
    "    def backward(self, t, y):\n",
    "        \"\"\"逆伝播\n",
    "        Args:\n",
    "            t (ndarray): 正解のラベルデータ。形状は[N, 1]。\n",
    "            y (ndarray): ネットワークの出力。形状は[N, 1]。\n",
    "\n",
    "\n",
    "        出力層誤差 delta4: [N, 1]\n",
    "        第3層誤差 delta3: [N, 10]\n",
    "        第2層誤差 delta2: [N, 50]\n",
    "        第1層誤差 delta1: [N, 50]\n",
    "\n",
    "        第4層b勾配 dedb4: [N, 1]\n",
    "        第3層b勾配 dedb3: [N, 10]\n",
    "        第2層b勾配 dedb2: [N, 50]\n",
    "        第1層b勾配 dedb1: [N, 50]\n",
    "\n",
    "        第4層w勾配 dedw4: [N, 10, 1]\n",
    "        第3層w勾配 dedw3: [N, 50, 10]\n",
    "        第2層w勾配 dedw2: [N, 50, 50]\n",
    "        第1層w勾配 dedw1: [N, 2, 50]\n",
    "        \"\"\"\n",
    "\n",
    "        # 出力層の誤差デルタは二乗誤差の微分\n",
    "        delta4 = -2 * (t - y) ### 問6-5 ###\n",
    "        # 誤差逆伝播\n",
    "        delta3 = np.dot(delta4, np.transpose(self.w4))  ### 問6-6 ###\n",
    "        # delta2 = np.dot(delta3, np.transpose(self.w3)) * np.where(self.layer2 > 0, 1, 0)  ### 問6-7(Before) ###\n",
    "        delta2 = np.dot(delta3 * np.where(self.layer3 > 0, 1, 0), np.transpose(self.w3)) ### 問6-7(After) ###\n",
    "        # delta1 = np.dot(delta2, np.transpose(self.w2)) * np.where(self.layer1 > 0, 1, 0) ### 問6-8(Before) ###\n",
    "        delta1 = np.dot(delta2 * np.where(self.layer2 > 0, 1, 0), np.transpose(self.w2)) ### 問6-8(After) ###\n",
    "        \n",
    "\n",
    "        # バイアスbのコスト関数eに対する勾配\n",
    "        self.dedb4 = np.mean(delta4, axis=0)\n",
    "        self.dedb3 = np.mean(delta3 * (self.layer3 > 0), axis=0)\n",
    "        self.dedb2 = np.mean(delta2 * (self.layer2 > 0), axis=0)\n",
    "        self.dedb1 = np.mean(delta1 * (self.layer1 > 0), axis=0)\n",
    "\n",
    "        # 重みwのコスト関数eに対する勾配\n",
    "        self.dedw4 = np.dot(self.layer3.T, delta4) / delta4.shape[0]\n",
    "        self.dedw3 = np.dot(self.layer2.T, delta3 * (self.layer3 > 0)) / delta3.shape[0]\n",
    "        self.dedw2 = np.dot(self.layer1.T, delta2 * (self.layer2 > 0)) / delta2.shape[0]\n",
    "        self.dedw1 = np.dot(self.layer0.T, delta1 * (self.layer1 > 0)) / delta1.shape[0]\n",
    "\n",
    "    def optimize_GradientDescent(self, lr):\n",
    "        \"\"\"勾配降下法によるパラメータの更新\n",
    "\n",
    "        Args:\n",
    "            lr (float): 学習率。\n",
    "        \"\"\"\n",
    "        self.b1 -= lr * self.dedb1\n",
    "        self.b2 -= lr * self.dedb2\n",
    "        self.b3 -= lr * self.dedb3\n",
    "        self.b4 -= lr * self.dedb4\n",
    "\n",
    "        self.w1 -= lr * self.dedw1\n",
    "        self.w2 -= lr * self.dedw2\n",
    "        self.w3 -= lr * self.dedw3\n",
    "        self.w4 -= lr * self.dedw4"
   ]
  },
  {
   "attachments": {},
   "cell_type": "markdown",
   "metadata": {
    "id": "_b61sXe9bmEa"
   },
   "source": [
    "#### 学習\n",
    "\n",
    "以下ではこれまでで定義した多層パーセプトロンを使用し、データを学習します。\n",
    "コストが正常に減少し、500epochで0.5以下にまで到達していれば学習は成功していると言えます。"
   ]
  },
  {
   "cell_type": "code",
   "execution_count": 23,
   "metadata": {
    "id": "slaBG8Xobk_P"
   },
   "outputs": [
    {
     "name": "stdout",
     "output_type": "stream",
     "text": [
      "EPOCH  1  | TRAIN LOSS  13.60269194677772  | TEST LOSS  13.64726861759201\n",
      "EPOCH  2  | TRAIN LOSS  13.319505193014443  | TEST LOSS  13.372675701793797\n",
      "EPOCH  3  | TRAIN LOSS  13.048938105519074  | TEST LOSS  13.109758511569227\n",
      "EPOCH  4  | TRAIN LOSS  12.790001450371227  | TEST LOSS  12.85790982805296\n",
      "EPOCH  5  | TRAIN LOSS  12.542041238525556  | TEST LOSS  12.616600401846968\n",
      "EPOCH  6  | TRAIN LOSS  12.304548642420967  | TEST LOSS  12.385341253456644\n",
      "EPOCH  7  | TRAIN LOSS  12.077025937993978  | TEST LOSS  12.163531021941013\n",
      "EPOCH  8  | TRAIN LOSS  11.85884692551945  | TEST LOSS  11.95057313076331\n",
      "EPOCH  9  | TRAIN LOSS  11.649441032528197  | TEST LOSS  11.746002136518426\n",
      "EPOCH  10  | TRAIN LOSS  11.448321293979054  | TEST LOSS  11.54939919402566\n",
      "EPOCH  11  | TRAIN LOSS  11.255029341422683  | TEST LOSS  11.360293805132155\n",
      "EPOCH  12  | TRAIN LOSS  11.069173397280359  | TEST LOSS  11.178212638230432\n",
      "EPOCH  13  | TRAIN LOSS  10.890271855526548  | TEST LOSS  11.002654305768727\n",
      "EPOCH  14  | TRAIN LOSS  10.717778313371662  | TEST LOSS  10.833162671031618\n",
      "EPOCH  15  | TRAIN LOSS  10.551295676126998  | TEST LOSS  10.669142978374579\n",
      "EPOCH  16  | TRAIN LOSS  10.390310638998749  | TEST LOSS  10.510527052260665\n",
      "EPOCH  17  | TRAIN LOSS  10.234764420489665  | TEST LOSS  10.357354438955303\n",
      "EPOCH  18  | TRAIN LOSS  10.08465242868202  | TEST LOSS  10.209759456112065\n",
      "EPOCH  19  | TRAIN LOSS  9.940066764583426  | TEST LOSS  10.067430267135041\n",
      "EPOCH  20  | TRAIN LOSS  9.800710602424852  | TEST LOSS  9.930143490127692\n",
      "EPOCH  21  | TRAIN LOSS  9.666358461981718  | TEST LOSS  9.797617077448614\n",
      "EPOCH  22  | TRAIN LOSS  9.536706627236128  | TEST LOSS  9.669594705722618\n",
      "EPOCH  23  | TRAIN LOSS  9.411544009897742  | TEST LOSS  9.546036571838256\n",
      "EPOCH  24  | TRAIN LOSS  9.290828328575138  | TEST LOSS  9.426954870734654\n",
      "EPOCH  25  | TRAIN LOSS  9.174546328146999  | TEST LOSS  9.312176289333287\n",
      "EPOCH  26  | TRAIN LOSS  9.062528854660979  | TEST LOSS  9.201521837724709\n",
      "EPOCH  27  | TRAIN LOSS  8.954595518532505  | TEST LOSS  9.094815603989616\n",
      "EPOCH  28  | TRAIN LOSS  8.850572007622867  | TEST LOSS  8.991891951718573\n",
      "EPOCH  29  | TRAIN LOSS  8.750293572793534  | TEST LOSS  8.892598078725984\n",
      "EPOCH  30  | TRAIN LOSS  8.653609101103859  | TEST LOSS  8.796782831887535\n",
      "EPOCH  31  | TRAIN LOSS  8.560373778654215  | TEST LOSS  8.704314427767699\n",
      "EPOCH  32  | TRAIN LOSS  8.470455065257823  | TEST LOSS  8.615066208444619\n",
      "EPOCH  33  | TRAIN LOSS  8.383723458363999  | TEST LOSS  8.52890789224027\n",
      "EPOCH  34  | TRAIN LOSS  8.30005459764824  | TEST LOSS  8.445721422073031\n",
      "EPOCH  35  | TRAIN LOSS  8.219334491479849  | TEST LOSS  8.365401850722527\n",
      "EPOCH  36  | TRAIN LOSS  8.141456408774467  | TEST LOSS  8.287847620578253\n",
      "EPOCH  37  | TRAIN LOSS  8.066319626168045  | TEST LOSS  8.212969360699018\n",
      "EPOCH  38  | TRAIN LOSS  7.993831951604207  | TEST LOSS  8.140680477839972\n",
      "EPOCH  39  | TRAIN LOSS  7.923905025980204  | TEST LOSS  8.070894327710171\n",
      "EPOCH  40  | TRAIN LOSS  7.856456139335748  | TEST LOSS  8.003530182986657\n",
      "EPOCH  41  | TRAIN LOSS  7.791401831531653  | TEST LOSS  7.938506604273078\n",
      "EPOCH  42  | TRAIN LOSS  7.728664149815745  | TEST LOSS  7.8757464991181605\n",
      "EPOCH  43  | TRAIN LOSS  7.668170685316497  | TEST LOSS  7.815175675925573\n",
      "EPOCH  44  | TRAIN LOSS  7.609847136136603  | TEST LOSS  7.75672590320134\n",
      "EPOCH  45  | TRAIN LOSS  7.553620421145898  | TEST LOSS  7.700329021934019\n",
      "EPOCH  46  | TRAIN LOSS  7.4994270445425615  | TEST LOSS  7.645927708276162\n",
      "EPOCH  47  | TRAIN LOSS  7.44720834724631  | TEST LOSS  7.593482732056687\n",
      "EPOCH  48  | TRAIN LOSS  7.396918937185113  | TEST LOSS  7.542934685771877\n",
      "EPOCH  49  | TRAIN LOSS  7.348504204897082  | TEST LOSS  7.49423000012959\n",
      "EPOCH  50  | TRAIN LOSS  7.3019164436469  | TEST LOSS  7.4473202519233\n",
      "EPOCH  51  | TRAIN LOSS  7.25710522696048  | TEST LOSS  7.402158733054475\n",
      "EPOCH  52  | TRAIN LOSS  7.214022627774836  | TEST LOSS  7.358690711576619\n",
      "EPOCH  53  | TRAIN LOSS  7.172614781534758  | TEST LOSS  7.316876704224984\n",
      "EPOCH  54  | TRAIN LOSS  7.132832900422212  | TEST LOSS  7.276658419237021\n",
      "EPOCH  55  | TRAIN LOSS  7.094616693765437  | TEST LOSS  7.23797256710591\n",
      "EPOCH  56  | TRAIN LOSS  7.0579152261666485  | TEST LOSS  7.200760007951395\n",
      "EPOCH  57  | TRAIN LOSS  7.022674781962516  | TEST LOSS  7.164975891564406\n",
      "EPOCH  58  | TRAIN LOSS  6.988839986693723  | TEST LOSS  7.130562194428449\n",
      "EPOCH  59  | TRAIN LOSS  6.956356438651169  | TEST LOSS  7.0974761020097095\n",
      "EPOCH  60  | TRAIN LOSS  6.925174462848845  | TEST LOSS  7.065677645127791\n",
      "EPOCH  61  | TRAIN LOSS  6.895242658288243  | TEST LOSS  7.0351058909429\n",
      "EPOCH  62  | TRAIN LOSS  6.866507083843519  | TEST LOSS  7.005710660341677\n",
      "EPOCH  63  | TRAIN LOSS  6.838920871668947  | TEST LOSS  6.977435474231447\n",
      "EPOCH  64  | TRAIN LOSS  6.812423923032225  | TEST LOSS  6.950227461434367\n",
      "EPOCH  65  | TRAIN LOSS  6.786964760316338  | TEST LOSS  6.924032755986862\n",
      "EPOCH  66  | TRAIN LOSS  6.762489479854225  | TEST LOSS  6.898806626179032\n",
      "EPOCH  67  | TRAIN LOSS  6.738948769029488  | TEST LOSS  6.874498073930074\n",
      "EPOCH  68  | TRAIN LOSS  6.716297159797465  | TEST LOSS  6.851053560531805\n",
      "EPOCH  69  | TRAIN LOSS  6.69447868457331  | TEST LOSS  6.828421746640958\n",
      "EPOCH  70  | TRAIN LOSS  6.6734420146736255  | TEST LOSS  6.806544439099376\n",
      "EPOCH  71  | TRAIN LOSS  6.653130075081299  | TEST LOSS  6.785368379978481\n",
      "EPOCH  72  | TRAIN LOSS  6.633493800827438  | TEST LOSS  6.764836953319071\n",
      "EPOCH  73  | TRAIN LOSS  6.614477608143171  | TEST LOSS  6.744897033435509\n",
      "EPOCH  74  | TRAIN LOSS  6.59602487519123  | TEST LOSS  6.725503542121763\n",
      "EPOCH  75  | TRAIN LOSS  6.578086714973322  | TEST LOSS  6.7066003178073785\n",
      "EPOCH  76  | TRAIN LOSS  6.5606157308997615  | TEST LOSS  6.688144817803438\n",
      "EPOCH  77  | TRAIN LOSS  6.543567738747565  | TEST LOSS  6.6700860607708785\n",
      "EPOCH  78  | TRAIN LOSS  6.526890201948284  | TEST LOSS  6.652375096455583\n",
      "EPOCH  79  | TRAIN LOSS  6.510536284525499  | TEST LOSS  6.634966714380742\n",
      "EPOCH  80  | TRAIN LOSS  6.494458395903527  | TEST LOSS  6.617809585775142\n",
      "EPOCH  81  | TRAIN LOSS  6.478608515571757  | TEST LOSS  6.600864088732946\n",
      "EPOCH  82  | TRAIN LOSS  6.46294791219454  | TEST LOSS  6.584088730535293\n",
      "EPOCH  83  | TRAIN LOSS  6.447435438216948  | TEST LOSS  6.5674357555431095\n",
      "EPOCH  84  | TRAIN LOSS  6.432028454730197  | TEST LOSS  6.55085951434004\n",
      "EPOCH  85  | TRAIN LOSS  6.416680340329966  | TEST LOSS  6.534315195593139\n",
      "EPOCH  86  | TRAIN LOSS  6.401348146120896  | TEST LOSS  6.5177645216944535\n",
      "EPOCH  87  | TRAIN LOSS  6.385988961921648  | TEST LOSS  6.501156690284008\n",
      "EPOCH  88  | TRAIN LOSS  6.370561188724487  | TEST LOSS  6.484458738910764\n",
      "EPOCH  89  | TRAIN LOSS  6.355021953713047  | TEST LOSS  6.4676263781175605\n",
      "EPOCH  90  | TRAIN LOSS  6.339331243134787  | TEST LOSS  6.450619507875394\n",
      "EPOCH  91  | TRAIN LOSS  6.323452591260802  | TEST LOSS  6.433395135853303\n",
      "EPOCH  92  | TRAIN LOSS  6.307341659544514  | TEST LOSS  6.415904651341801\n",
      "EPOCH  93  | TRAIN LOSS  6.290954383708746  | TEST LOSS  6.398105971885154\n",
      "EPOCH  94  | TRAIN LOSS  6.274251480702294  | TEST LOSS  6.379953049474673\n",
      "EPOCH  95  | TRAIN LOSS  6.257192483045941  | TEST LOSS  6.361409980348577\n",
      "EPOCH  96  | TRAIN LOSS  6.239735694613028  | TEST LOSS  6.342431531934934\n",
      "EPOCH  97  | TRAIN LOSS  6.221849410064431  | TEST LOSS  6.322982040577425\n",
      "EPOCH  98  | TRAIN LOSS  6.203497410323627  | TEST LOSS  6.303022925800926\n",
      "EPOCH  99  | TRAIN LOSS  6.184633642679184  | TEST LOSS  6.2825192592606625\n",
      "EPOCH  100  | TRAIN LOSS  6.165222012468475  | TEST LOSS  6.2614280009905485\n",
      "EPOCH  101  | TRAIN LOSS  6.145211848218069  | TEST LOSS  6.239703038163156\n",
      "EPOCH  102  | TRAIN LOSS  6.124565510189721  | TEST LOSS  6.2173023643151915\n",
      "EPOCH  103  | TRAIN LOSS  6.103244596346252  | TEST LOSS  6.194181178084546\n",
      "EPOCH  104  | TRAIN LOSS  6.081203946249184  | TEST LOSS  6.17029712682094\n",
      "EPOCH  105  | TRAIN LOSS  6.058408748610637  | TEST LOSS  6.1456022862209085\n",
      "EPOCH  106  | TRAIN LOSS  6.034813773111659  | TEST LOSS  6.120048628941924\n",
      "EPOCH  107  | TRAIN LOSS  6.0103668472470195  | TEST LOSS  6.09358722975622\n",
      "EPOCH  108  | TRAIN LOSS  5.985021481364581  | TEST LOSS  6.066159652349378\n",
      "EPOCH  109  | TRAIN LOSS  5.958724764174811  | TEST LOSS  6.037717101853289\n",
      "EPOCH  110  | TRAIN LOSS  5.931427901573367  | TEST LOSS  6.0081987618789\n",
      "EPOCH  111  | TRAIN LOSS  5.9030696840787105  | TEST LOSS  5.977528732411194\n",
      "EPOCH  112  | TRAIN LOSS  5.873579729849486  | TEST LOSS  5.94565201036553\n",
      "EPOCH  113  | TRAIN LOSS  5.842902493912557  | TEST LOSS  5.912498358013814\n",
      "EPOCH  114  | TRAIN LOSS  5.810974320941411  | TEST LOSS  5.878000909022461\n",
      "EPOCH  115  | TRAIN LOSS  5.7777315635805655  | TEST LOSS  5.84210102282466\n",
      "EPOCH  116  | TRAIN LOSS  5.743119894158938  | TEST LOSS  5.804725770530698\n",
      "EPOCH  117  | TRAIN LOSS  5.707068467686599  | TEST LOSS  5.765800776874966\n",
      "EPOCH  118  | TRAIN LOSS  5.66951047455488  | TEST LOSS  5.725247833394395\n",
      "EPOCH  119  | TRAIN LOSS  5.630367881923561  | TEST LOSS  5.682990356897802\n",
      "EPOCH  120  | TRAIN LOSS  5.589575462024466  | TEST LOSS  5.638983656117809\n",
      "EPOCH  121  | TRAIN LOSS  5.547073975325587  | TEST LOSS  5.5931538438487705\n",
      "EPOCH  122  | TRAIN LOSS  5.502808234660433  | TEST LOSS  5.5454651074754295\n",
      "EPOCH  123  | TRAIN LOSS  5.456735377218574  | TEST LOSS  5.495836209516788\n",
      "EPOCH  124  | TRAIN LOSS  5.40876846120447  | TEST LOSS  5.4441951901706815\n",
      "EPOCH  125  | TRAIN LOSS  5.358841806294798  | TEST LOSS  5.390466119947064\n",
      "EPOCH  126  | TRAIN LOSS  5.306882320808954  | TEST LOSS  5.33459740046089\n",
      "EPOCH  127  | TRAIN LOSS  5.252828347024829  | TEST LOSS  5.276521042850427\n",
      "EPOCH  128  | TRAIN LOSS  5.196612032669477  | TEST LOSS  5.2161240041287495\n",
      "EPOCH  129  | TRAIN LOSS  5.138157413171617  | TEST LOSS  5.153386597782885\n",
      "EPOCH  130  | TRAIN LOSS  5.077412524234658  | TEST LOSS  5.088243261678021\n",
      "EPOCH  131  | TRAIN LOSS  5.014286556598867  | TEST LOSS  5.0206056482913715\n",
      "EPOCH  132  | TRAIN LOSS  4.948718858657959  | TEST LOSS  4.9504086717562386\n",
      "EPOCH  133  | TRAIN LOSS  4.880668790662879  | TEST LOSS  4.877594537424557\n",
      "EPOCH  134  | TRAIN LOSS  4.810050744802819  | TEST LOSS  4.80208631832792\n",
      "EPOCH  135  | TRAIN LOSS  4.7368208095540165  | TEST LOSS  4.723861984430239\n",
      "EPOCH  136  | TRAIN LOSS  4.6609338122417485  | TEST LOSS  4.642857066455884\n",
      "EPOCH  137  | TRAIN LOSS  4.582340325184379  | TEST LOSS  4.5590876964585\n",
      "EPOCH  138  | TRAIN LOSS  4.501044751554327  | TEST LOSS  4.472633982729607\n",
      "EPOCH  139  | TRAIN LOSS  4.417151638050041  | TEST LOSS  4.383630171878982\n",
      "EPOCH  140  | TRAIN LOSS  4.330805178037748  | TEST LOSS  4.292223931256044\n",
      "EPOCH  141  | TRAIN LOSS  4.24209850613512  | TEST LOSS  4.198461313493999\n",
      "EPOCH  142  | TRAIN LOSS  4.151117085273695  | TEST LOSS  4.1024992287982895\n",
      "EPOCH  143  | TRAIN LOSS  4.057996416249169  | TEST LOSS  4.0045131053122445\n",
      "EPOCH  144  | TRAIN LOSS  3.9629003517515318  | TEST LOSS  3.9048369813857673\n",
      "EPOCH  145  | TRAIN LOSS  3.8661211987540645  | TEST LOSS  3.8041435603043157\n",
      "EPOCH  146  | TRAIN LOSS  3.7684464665020174  | TEST LOSS  3.7033118410291075\n",
      "EPOCH  147  | TRAIN LOSS  3.6707315623300847  | TEST LOSS  3.6029347448411637\n",
      "EPOCH  148  | TRAIN LOSS  3.5732856616514126  | TEST LOSS  3.50316430531581\n",
      "EPOCH  149  | TRAIN LOSS  3.47639057618172  | TEST LOSS  3.404209569369503\n",
      "EPOCH  150  | TRAIN LOSS  3.380414979998806  | TEST LOSS  3.306469903774387\n",
      "EPOCH  151  | TRAIN LOSS  3.285547612488128  | TEST LOSS  3.2100317040195976\n",
      "EPOCH  152  | TRAIN LOSS  3.1920883159395057  | TEST LOSS  3.114918105367951\n",
      "EPOCH  153  | TRAIN LOSS  3.100115142517537  | TEST LOSS  3.0213912949206088\n",
      "EPOCH  154  | TRAIN LOSS  3.009635327404908  | TEST LOSS  2.929746459747851\n",
      "EPOCH  155  | TRAIN LOSS  2.9209491059866446  | TEST LOSS  2.840406585903908\n",
      "EPOCH  156  | TRAIN LOSS  2.8343915515729963  | TEST LOSS  2.7541075420697787\n",
      "EPOCH  157  | TRAIN LOSS  2.7507807259977426  | TEST LOSS  2.6714611727897246\n",
      "EPOCH  158  | TRAIN LOSS  2.670646913924227  | TEST LOSS  2.5923559296540484\n",
      "EPOCH  159  | TRAIN LOSS  2.5939577357692327  | TEST LOSS  2.51679131755187\n",
      "EPOCH  160  | TRAIN LOSS  2.520631381865771  | TEST LOSS  2.4447205535497925\n",
      "EPOCH  161  | TRAIN LOSS  2.450494366190502  | TEST LOSS  2.376065819264947\n",
      "EPOCH  162  | TRAIN LOSS  2.3833181383537014  | TEST LOSS  2.310669809704481\n",
      "EPOCH  163  | TRAIN LOSS  2.319186844237905  | TEST LOSS  2.2483329486772505\n",
      "EPOCH  164  | TRAIN LOSS  2.258022393688732  | TEST LOSS  2.188757118827208\n",
      "EPOCH  165  | TRAIN LOSS  2.1996053199566568  | TEST LOSS  2.1317424615709935\n",
      "EPOCH  166  | TRAIN LOSS  2.143645623295205  | TEST LOSS  2.0772617490962255\n",
      "EPOCH  167  | TRAIN LOSS  2.0900945755776803  | TEST LOSS  2.0252959577718843\n",
      "EPOCH  168  | TRAIN LOSS  2.0388348362785798  | TEST LOSS  1.9755909074654907\n",
      "EPOCH  169  | TRAIN LOSS  1.9896800310367089  | TEST LOSS  1.9279587481294544\n",
      "EPOCH  170  | TRAIN LOSS  1.942512566535013  | TEST LOSS  1.8823371712351917\n",
      "EPOCH  171  | TRAIN LOSS  1.8973082523419136  | TEST LOSS  1.838633400935692\n",
      "EPOCH  172  | TRAIN LOSS  1.8540840953321327  | TEST LOSS  1.7967345727420738\n",
      "EPOCH  173  | TRAIN LOSS  1.8126775381352471  | TEST LOSS  1.756597679952383\n",
      "EPOCH  174  | TRAIN LOSS  1.7729643064702003  | TEST LOSS  1.7180659822006072\n",
      "EPOCH  175  | TRAIN LOSS  1.73484704283529  | TEST LOSS  1.6812033798183001\n",
      "EPOCH  176  | TRAIN LOSS  1.6982621253601038  | TEST LOSS  1.6458137514253472\n",
      "EPOCH  177  | TRAIN LOSS  1.663096758725253  | TEST LOSS  1.6118547360018405\n",
      "EPOCH  178  | TRAIN LOSS  1.6293070583765028  | TEST LOSS  1.5792502907094292\n",
      "EPOCH  179  | TRAIN LOSS  1.5968424487843103  | TEST LOSS  1.5479057361397404\n",
      "EPOCH  180  | TRAIN LOSS  1.565625159865894  | TEST LOSS  1.5178323953584587\n",
      "EPOCH  181  | TRAIN LOSS  1.535654208198421  | TEST LOSS  1.4889659606913488\n",
      "EPOCH  182  | TRAIN LOSS  1.5068354313866457  | TEST LOSS  1.4612884939813713\n",
      "EPOCH  183  | TRAIN LOSS  1.4791534321296311  | TEST LOSS  1.4347267421164547\n",
      "EPOCH  184  | TRAIN LOSS  1.4525246643312508  | TEST LOSS  1.409249906034453\n",
      "EPOCH  185  | TRAIN LOSS  1.4268964803005335  | TEST LOSS  1.3847812724670416\n",
      "EPOCH  186  | TRAIN LOSS  1.4022202118159912  | TEST LOSS  1.3612488110546501\n",
      "EPOCH  187  | TRAIN LOSS  1.3784626466053134  | TEST LOSS  1.3386436535304638\n",
      "EPOCH  188  | TRAIN LOSS  1.3555983595454193  | TEST LOSS  1.3169316901706147\n",
      "EPOCH  189  | TRAIN LOSS  1.3336045707671496  | TEST LOSS  1.296017174150237\n",
      "EPOCH  190  | TRAIN LOSS  1.312429970264101  | TEST LOSS  1.2758897817021966\n",
      "EPOCH  191  | TRAIN LOSS  1.2920263257681648  | TEST LOSS  1.2565175963778408\n",
      "EPOCH  192  | TRAIN LOSS  1.2723351928195539  | TEST LOSS  1.2378874146669476\n",
      "EPOCH  193  | TRAIN LOSS  1.2533512324986644  | TEST LOSS  1.2199488581000069\n",
      "EPOCH  194  | TRAIN LOSS  1.2350586799481678  | TEST LOSS  1.202657604575562\n",
      "EPOCH  195  | TRAIN LOSS  1.2174124595179099  | TEST LOSS  1.185991633340418\n",
      "EPOCH  196  | TRAIN LOSS  1.2003922691984594  | TEST LOSS  1.1699415561269557\n",
      "EPOCH  197  | TRAIN LOSS  1.183987501515014  | TEST LOSS  1.154483597915091\n",
      "EPOCH  198  | TRAIN LOSS  1.1681666858870197  | TEST LOSS  1.1395631878635595\n",
      "EPOCH  199  | TRAIN LOSS  1.1528881708522296  | TEST LOSS  1.1251340764715387\n",
      "EPOCH  200  | TRAIN LOSS  1.1381210614295731  | TEST LOSS  1.1111871677710201\n",
      "EPOCH  201  | TRAIN LOSS  1.1238610716806592  | TEST LOSS  1.0977050883990682\n",
      "EPOCH  202  | TRAIN LOSS  1.1100789680589673  | TEST LOSS  1.0846694697959023\n",
      "EPOCH  203  | TRAIN LOSS  1.0967540270773621  | TEST LOSS  1.07206983108675\n",
      "EPOCH  204  | TRAIN LOSS  1.0838745980636992  | TEST LOSS  1.059889599620414\n",
      "EPOCH  205  | TRAIN LOSS  1.0714121781002726  | TEST LOSS  1.0480918069314853\n",
      "EPOCH  206  | TRAIN LOSS  1.0593428102932234  | TEST LOSS  1.0366544141773848\n",
      "EPOCH  207  | TRAIN LOSS  1.0476650887093288  | TEST LOSS  1.025592113567661\n",
      "EPOCH  208  | TRAIN LOSS  1.0363664180791492  | TEST LOSS  1.0148742311345917\n",
      "EPOCH  209  | TRAIN LOSS  1.0254218187354058  | TEST LOSS  1.0044829107395061\n",
      "EPOCH  210  | TRAIN LOSS  1.0148145725089857  | TEST LOSS  0.9944154002668983\n",
      "EPOCH  211  | TRAIN LOSS  1.00452522468669  | TEST LOSS  0.9846678135646503\n",
      "EPOCH  212  | TRAIN LOSS  0.994561947828446  | TEST LOSS  0.9752194340018937\n",
      "EPOCH  213  | TRAIN LOSS  0.9848976965721926  | TEST LOSS  0.9660585821038562\n",
      "EPOCH  214  | TRAIN LOSS  0.9755224223516041  | TEST LOSS  0.9571681870641391\n",
      "EPOCH  215  | TRAIN LOSS  0.966425280553162  | TEST LOSS  0.9485546275114103\n",
      "EPOCH  216  | TRAIN LOSS  0.9576086022853153  | TEST LOSS  0.940203164936562\n",
      "EPOCH  217  | TRAIN LOSS  0.9490666762920168  | TEST LOSS  0.9320829205376351\n",
      "EPOCH  218  | TRAIN LOSS  0.940777083457441  | TEST LOSS  0.9241912817448185\n",
      "EPOCH  219  | TRAIN LOSS  0.9327241526432112  | TEST LOSS  0.916522465962053\n",
      "EPOCH  220  | TRAIN LOSS  0.9248915605055352  | TEST LOSS  0.9090710100674309\n",
      "EPOCH  221  | TRAIN LOSS  0.9172765651610082  | TEST LOSS  0.9018269229007085\n",
      "EPOCH  222  | TRAIN LOSS  0.9098668602015828  | TEST LOSS  0.8947831842558444\n",
      "EPOCH  223  | TRAIN LOSS  0.9026602102936091  | TEST LOSS  0.8879263949935835\n",
      "EPOCH  224  | TRAIN LOSS  0.8956462865441368  | TEST LOSS  0.8812360944429892\n",
      "EPOCH  225  | TRAIN LOSS  0.8888174595810217  | TEST LOSS  0.874717203899527\n",
      "EPOCH  226  | TRAIN LOSS  0.8821727678741292  | TEST LOSS  0.8683670200094246\n",
      "EPOCH  227  | TRAIN LOSS  0.8757083251846354  | TEST LOSS  0.8621849815515459\n",
      "EPOCH  228  | TRAIN LOSS  0.8694129063942704  | TEST LOSS  0.8561544813839487\n",
      "EPOCH  229  | TRAIN LOSS  0.8632699774717904  | TEST LOSS  0.8502728987799869\n",
      "EPOCH  230  | TRAIN LOSS  0.8572739103410221  | TEST LOSS  0.8445394213562355\n",
      "EPOCH  231  | TRAIN LOSS  0.8514285670428526  | TEST LOSS  0.8389540223525455\n",
      "EPOCH  232  | TRAIN LOSS  0.845725394641837  | TEST LOSS  0.8335009246835129\n",
      "EPOCH  233  | TRAIN LOSS  0.8401596011835105  | TEST LOSS  0.8281791526900751\n",
      "EPOCH  234  | TRAIN LOSS  0.8347303125471864  | TEST LOSS  0.822988582415197\n",
      "EPOCH  235  | TRAIN LOSS  0.829432454085066  | TEST LOSS  0.817918294544465\n",
      "EPOCH  236  | TRAIN LOSS  0.8242560538856738  | TEST LOSS  0.8129535575132819\n",
      "EPOCH  237  | TRAIN LOSS  0.8191962532478227  | TEST LOSS  0.8081077757258224\n",
      "EPOCH  238  | TRAIN LOSS  0.8142501787054258  | TEST LOSS  0.8033756093200727\n",
      "EPOCH  239  | TRAIN LOSS  0.8094181768499702  | TEST LOSS  0.7987493554738104\n",
      "EPOCH  240  | TRAIN LOSS  0.8046938074975  | TEST LOSS  0.7942231406183371\n",
      "EPOCH  241  | TRAIN LOSS  0.8000680419469071  | TEST LOSS  0.7897958251443641\n",
      "EPOCH  242  | TRAIN LOSS  0.7955390420848842  | TEST LOSS  0.7854657573492732\n",
      "EPOCH  243  | TRAIN LOSS  0.7911029918204342  | TEST LOSS  0.7812235147467567\n",
      "EPOCH  244  | TRAIN LOSS  0.7867560585528456  | TEST LOSS  0.7770698181496708\n",
      "EPOCH  245  | TRAIN LOSS  0.7824960588112052  | TEST LOSS  0.7729990682406412\n",
      "EPOCH  246  | TRAIN LOSS  0.7783199012049418  | TEST LOSS  0.7690074015370398\n",
      "EPOCH  247  | TRAIN LOSS  0.7742219223387705  | TEST LOSS  0.7650942931377731\n",
      "EPOCH  248  | TRAIN LOSS  0.7702006406239903  | TEST LOSS  0.761251797901305\n",
      "EPOCH  249  | TRAIN LOSS  0.7662534394724888  | TEST LOSS  0.7574823195052863\n",
      "EPOCH  250  | TRAIN LOSS  0.7623810436217202  | TEST LOSS  0.7537787940699191\n",
      "EPOCH  251  | TRAIN LOSS  0.7585765276676735  | TEST LOSS  0.7501411197910048\n",
      "EPOCH  252  | TRAIN LOSS  0.7548396923693321  | TEST LOSS  0.746567527278228\n",
      "EPOCH  253  | TRAIN LOSS  0.7511689470213576  | TEST LOSS  0.7430573513407268\n",
      "EPOCH  254  | TRAIN LOSS  0.7475651809758962  | TEST LOSS  0.739609115571571\n",
      "EPOCH  255  | TRAIN LOSS  0.7440244374518252  | TEST LOSS  0.7362138275984634\n",
      "EPOCH  256  | TRAIN LOSS  0.7405442561063128  | TEST LOSS  0.7328753065351236\n",
      "EPOCH  257  | TRAIN LOSS  0.7371244032115732  | TEST LOSS  0.7295844037849147\n",
      "EPOCH  258  | TRAIN LOSS  0.7337580862737021  | TEST LOSS  0.7263446060714771\n",
      "EPOCH  259  | TRAIN LOSS  0.7304448717323911  | TEST LOSS  0.7231580818864686\n",
      "EPOCH  260  | TRAIN LOSS  0.7271870129103866  | TEST LOSS  0.7200220477473961\n",
      "EPOCH  261  | TRAIN LOSS  0.7239839915232619  | TEST LOSS  0.7169365512549342\n",
      "EPOCH  262  | TRAIN LOSS  0.7208325488773065  | TEST LOSS  0.713904844969037\n",
      "EPOCH  263  | TRAIN LOSS  0.7177309246723882  | TEST LOSS  0.7109141554329437\n",
      "EPOCH  264  | TRAIN LOSS  0.7146781664860675  | TEST LOSS  0.7079666931933901\n",
      "EPOCH  265  | TRAIN LOSS  0.7116699848909226  | TEST LOSS  0.7050603573805563\n",
      "EPOCH  266  | TRAIN LOSS  0.7087063584433867  | TEST LOSS  0.7021962703665593\n",
      "EPOCH  267  | TRAIN LOSS  0.7057851117893333  | TEST LOSS  0.6993689652140438\n",
      "EPOCH  268  | TRAIN LOSS  0.7029021043881123  | TEST LOSS  0.6965764267434548\n",
      "EPOCH  269  | TRAIN LOSS  0.7000586612308544  | TEST LOSS  0.6938239052357633\n",
      "EPOCH  270  | TRAIN LOSS  0.6972562612931797  | TEST LOSS  0.6911074851381418\n",
      "EPOCH  271  | TRAIN LOSS  0.6944937882299757  | TEST LOSS  0.68842671937867\n",
      "EPOCH  272  | TRAIN LOSS  0.6917674647871543  | TEST LOSS  0.6857751585939639\n",
      "EPOCH  273  | TRAIN LOSS  0.6890770551980638  | TEST LOSS  0.6831533743554332\n",
      "EPOCH  274  | TRAIN LOSS  0.6864250763846129  | TEST LOSS  0.680565830590194\n",
      "EPOCH  275  | TRAIN LOSS  0.683808570722615  | TEST LOSS  0.6780132295734791\n",
      "EPOCH  276  | TRAIN LOSS  0.6812287731621776  | TEST LOSS  0.675494065596153\n",
      "EPOCH  277  | TRAIN LOSS  0.678684807264666  | TEST LOSS  0.6730014203070365\n",
      "EPOCH  278  | TRAIN LOSS  0.6761739371932143  | TEST LOSS  0.6705422709538843\n",
      "EPOCH  279  | TRAIN LOSS  0.6736963317489579  | TEST LOSS  0.6681101066795094\n",
      "EPOCH  280  | TRAIN LOSS  0.6712501188170312  | TEST LOSS  0.6657064057165973\n",
      "EPOCH  281  | TRAIN LOSS  0.6688342043336417  | TEST LOSS  0.6633328606044211\n",
      "EPOCH  282  | TRAIN LOSS  0.6664501313294988  | TEST LOSS  0.6609905815180034\n",
      "EPOCH  283  | TRAIN LOSS  0.6640953944119167  | TEST LOSS  0.6586735033131114\n",
      "EPOCH  284  | TRAIN LOSS  0.6617686671262176  | TEST LOSS  0.6563826087251898\n",
      "EPOCH  285  | TRAIN LOSS  0.6594687705707123  | TEST LOSS  0.6541119783205562\n",
      "EPOCH  286  | TRAIN LOSS  0.6571916699666249  | TEST LOSS  0.6518678868931707\n",
      "EPOCH  287  | TRAIN LOSS  0.6549427302831915  | TEST LOSS  0.6496495363501601\n",
      "EPOCH  288  | TRAIN LOSS  0.6527199671748289  | TEST LOSS  0.6474589136742216\n",
      "EPOCH  289  | TRAIN LOSS  0.6505222475484039  | TEST LOSS  0.6452936557900533\n",
      "EPOCH  290  | TRAIN LOSS  0.6483489459056873  | TEST LOSS  0.6431472873916121\n",
      "EPOCH  291  | TRAIN LOSS  0.6461997937062374  | TEST LOSS  0.6410262010221149\n",
      "EPOCH  292  | TRAIN LOSS  0.6440760192727326  | TEST LOSS  0.6389260389425931\n",
      "EPOCH  293  | TRAIN LOSS  0.6419758023074733  | TEST LOSS  0.6368497991383539\n",
      "EPOCH  294  | TRAIN LOSS  0.6398985627660528  | TEST LOSS  0.634797295870296\n",
      "EPOCH  295  | TRAIN LOSS  0.6378449050907997  | TEST LOSS  0.6327654237667957\n",
      "EPOCH  296  | TRAIN LOSS  0.6358111469456439  | TEST LOSS  0.6307538251164581\n",
      "EPOCH  297  | TRAIN LOSS  0.6337988578530601  | TEST LOSS  0.6287631368687414\n",
      "EPOCH  298  | TRAIN LOSS  0.6318072387868785  | TEST LOSS  0.6267907644922629\n",
      "EPOCH  299  | TRAIN LOSS  0.6298361316151823  | TEST LOSS  0.6248393490595785\n",
      "EPOCH  300  | TRAIN LOSS  0.627881747509436  | TEST LOSS  0.6229100107696768\n",
      "EPOCH  301  | TRAIN LOSS  0.6259446757990386  | TEST LOSS  0.620995948198854\n",
      "EPOCH  302  | TRAIN LOSS  0.6240270830855286  | TEST LOSS  0.6190997719005418\n",
      "EPOCH  303  | TRAIN LOSS  0.6221289060406591  | TEST LOSS  0.6172218437715239\n",
      "EPOCH  304  | TRAIN LOSS  0.6202490039456852  | TEST LOSS  0.6153590336912951\n",
      "EPOCH  305  | TRAIN LOSS  0.6183840560535884  | TEST LOSS  0.6135104324425747\n",
      "EPOCH  306  | TRAIN LOSS  0.616535827451493  | TEST LOSS  0.6116824027259031\n",
      "EPOCH  307  | TRAIN LOSS  0.6147065756756321  | TEST LOSS  0.609876202902545\n",
      "EPOCH  308  | TRAIN LOSS  0.612893605299931  | TEST LOSS  0.6080834132898721\n",
      "EPOCH  309  | TRAIN LOSS  0.6110949749278484  | TEST LOSS  0.6063099055929315\n",
      "EPOCH  310  | TRAIN LOSS  0.6093133753703324  | TEST LOSS  0.6045475860346573\n",
      "EPOCH  311  | TRAIN LOSS  0.6075480558630217  | TEST LOSS  0.6027980183723594\n",
      "EPOCH  312  | TRAIN LOSS  0.6058009042091468  | TEST LOSS  0.6010622850614534\n",
      "EPOCH  313  | TRAIN LOSS  0.6040703889622637  | TEST LOSS  0.5993437563729506\n",
      "EPOCH  314  | TRAIN LOSS  0.6023556638775124  | TEST LOSS  0.5976395572891966\n",
      "EPOCH  315  | TRAIN LOSS  0.6006572104247163  | TEST LOSS  0.5959497133021597\n",
      "EPOCH  316  | TRAIN LOSS  0.5989732005945684  | TEST LOSS  0.5942716677832681\n",
      "EPOCH  317  | TRAIN LOSS  0.5973031504311661  | TEST LOSS  0.5926092623684194\n",
      "EPOCH  318  | TRAIN LOSS  0.5956482764948944  | TEST LOSS  0.5909600457206696\n",
      "EPOCH  319  | TRAIN LOSS  0.5940080044655917  | TEST LOSS  0.5893273873174479\n",
      "EPOCH  320  | TRAIN LOSS  0.5923843223419555  | TEST LOSS  0.587710565994196\n",
      "EPOCH  321  | TRAIN LOSS  0.590775847106801  | TEST LOSS  0.5861069850934059\n",
      "EPOCH  322  | TRAIN LOSS  0.5891790030885224  | TEST LOSS  0.5845140875216422\n",
      "EPOCH  323  | TRAIN LOSS  0.5875950762693833  | TEST LOSS  0.5829385239080896\n",
      "EPOCH  324  | TRAIN LOSS  0.5860263955253998  | TEST LOSS  0.5813785778268958\n",
      "EPOCH  325  | TRAIN LOSS  0.5844717262911334  | TEST LOSS  0.5798252677988185\n",
      "EPOCH  326  | TRAIN LOSS  0.5829283653583512  | TEST LOSS  0.5782838536262387\n",
      "EPOCH  327  | TRAIN LOSS  0.5813963908098556  | TEST LOSS  0.5767519509321448\n",
      "EPOCH  328  | TRAIN LOSS  0.5798767781020653  | TEST LOSS  0.5752334356582093\n",
      "EPOCH  329  | TRAIN LOSS  0.5783694548729349  | TEST LOSS  0.5737226156128711\n",
      "EPOCH  330  | TRAIN LOSS  0.5768731243522977  | TEST LOSS  0.5722205295119744\n",
      "EPOCH  331  | TRAIN LOSS  0.5753890630819903  | TEST LOSS  0.570730561069983\n",
      "EPOCH  332  | TRAIN LOSS  0.5739181707219263  | TEST LOSS  0.5692507132550634\n",
      "EPOCH  333  | TRAIN LOSS  0.5724602553239903  | TEST LOSS  0.5677819601919165\n",
      "EPOCH  334  | TRAIN LOSS  0.5710130324490661  | TEST LOSS  0.5663229977571184\n",
      "EPOCH  335  | TRAIN LOSS  0.5695774600574519  | TEST LOSS  0.5648747307641314\n",
      "EPOCH  336  | TRAIN LOSS  0.5681540427698344  | TEST LOSS  0.5634347258929203\n",
      "EPOCH  337  | TRAIN LOSS  0.5667421539411607  | TEST LOSS  0.562004899157914\n",
      "EPOCH  338  | TRAIN LOSS  0.5653411382205837  | TEST LOSS  0.5605833656372831\n",
      "EPOCH  339  | TRAIN LOSS  0.5639502099736171  | TEST LOSS  0.5591718823671444\n",
      "EPOCH  340  | TRAIN LOSS  0.5625698295751222  | TEST LOSS  0.5577744851478565\n",
      "EPOCH  341  | TRAIN LOSS  0.5612006116421959  | TEST LOSS  0.5563876009461325\n",
      "EPOCH  342  | TRAIN LOSS  0.5598420453064775  | TEST LOSS  0.555012142672959\n",
      "EPOCH  343  | TRAIN LOSS  0.558493920343302  | TEST LOSS  0.5536437059948026\n",
      "EPOCH  344  | TRAIN LOSS  0.557154466798391  | TEST LOSS  0.5522860346622974\n",
      "EPOCH  345  | TRAIN LOSS  0.5558239777870458  | TEST LOSS  0.5509368497681196\n",
      "EPOCH  346  | TRAIN LOSS  0.5545018437752814  | TEST LOSS  0.5495955671035482\n",
      "EPOCH  347  | TRAIN LOSS  0.5531903647944343  | TEST LOSS  0.548264989425425\n",
      "EPOCH  348  | TRAIN LOSS  0.5518894953095425  | TEST LOSS  0.5469422499522304\n",
      "EPOCH  349  | TRAIN LOSS  0.5505969961338842  | TEST LOSS  0.5456299702854092\n",
      "EPOCH  350  | TRAIN LOSS  0.5493154792756207  | TEST LOSS  0.544328254382521\n",
      "EPOCH  351  | TRAIN LOSS  0.548044241755126  | TEST LOSS  0.5430336023530304\n",
      "EPOCH  352  | TRAIN LOSS  0.546781810746951  | TEST LOSS  0.5417497085249547\n",
      "EPOCH  353  | TRAIN LOSS  0.545527847551197  | TEST LOSS  0.5404727346806135\n",
      "EPOCH  354  | TRAIN LOSS  0.5442821214209144  | TEST LOSS  0.5392020684849467\n",
      "EPOCH  355  | TRAIN LOSS  0.5430446758673145  | TEST LOSS  0.5379374775342867\n",
      "EPOCH  356  | TRAIN LOSS  0.5418166610248109  | TEST LOSS  0.5366808454070845\n",
      "EPOCH  357  | TRAIN LOSS  0.5405952292266355  | TEST LOSS  0.5354367634362496\n",
      "EPOCH  358  | TRAIN LOSS  0.5393821621213507  | TEST LOSS  0.5341999001055335\n",
      "EPOCH  359  | TRAIN LOSS  0.5381779907445622  | TEST LOSS  0.5329739715203907\n",
      "EPOCH  360  | TRAIN LOSS  0.5369846520885968  | TEST LOSS  0.5317566276706648\n",
      "EPOCH  361  | TRAIN LOSS  0.5357998203392728  | TEST LOSS  0.5305466031989029\n",
      "EPOCH  362  | TRAIN LOSS  0.5346228215377561  | TEST LOSS  0.5293447509665877\n",
      "EPOCH  363  | TRAIN LOSS  0.5334534355485147  | TEST LOSS  0.5281478234479325\n",
      "EPOCH  364  | TRAIN LOSS  0.5322914610297882  | TEST LOSS  0.5269578503596981\n",
      "EPOCH  365  | TRAIN LOSS  0.5311373194513515  | TEST LOSS  0.5257787813777149\n",
      "EPOCH  366  | TRAIN LOSS  0.5299922050569006  | TEST LOSS  0.5246112676715187\n",
      "EPOCH  367  | TRAIN LOSS  0.5288549104600814  | TEST LOSS  0.5234514458573112\n",
      "EPOCH  368  | TRAIN LOSS  0.5277251182363326  | TEST LOSS  0.5222984043083523\n",
      "EPOCH  369  | TRAIN LOSS  0.5266040878688303  | TEST LOSS  0.5211507526840664\n",
      "EPOCH  370  | TRAIN LOSS  0.5254911332780201  | TEST LOSS  0.5200097435097514\n",
      "EPOCH  371  | TRAIN LOSS  0.5243845133603948  | TEST LOSS  0.518875851560711\n",
      "EPOCH  372  | TRAIN LOSS  0.5232861143810676  | TEST LOSS  0.5177502428954216\n",
      "EPOCH  373  | TRAIN LOSS  0.5221946438178229  | TEST LOSS  0.5166287033773551\n",
      "EPOCH  374  | TRAIN LOSS  0.5211097623503511  | TEST LOSS  0.5155201684700288\n",
      "EPOCH  375  | TRAIN LOSS  0.5200338869597197  | TEST LOSS  0.5144203861867338\n",
      "EPOCH  376  | TRAIN LOSS  0.5189663965683398  | TEST LOSS  0.5133298313876737\n",
      "EPOCH  377  | TRAIN LOSS  0.5179063719635166  | TEST LOSS  0.5122475680640914\n",
      "EPOCH  378  | TRAIN LOSS  0.516853719674965  | TEST LOSS  0.5111711741078524\n",
      "EPOCH  379  | TRAIN LOSS  0.5158082204522155  | TEST LOSS  0.5101029703835\n",
      "EPOCH  380  | TRAIN LOSS  0.5147695900392227  | TEST LOSS  0.5090383485472458\n",
      "EPOCH  381  | TRAIN LOSS  0.5137379188489324  | TEST LOSS  0.507981564997474\n",
      "EPOCH  382  | TRAIN LOSS  0.5127138509278704  | TEST LOSS  0.506931757801584\n",
      "EPOCH  383  | TRAIN LOSS  0.5116963936681135  | TEST LOSS  0.5058906600443516\n",
      "EPOCH  384  | TRAIN LOSS  0.5106864054906407  | TEST LOSS  0.5048561882588357\n",
      "EPOCH  385  | TRAIN LOSS  0.5096822670444897  | TEST LOSS  0.5038238938754818\n",
      "EPOCH  386  | TRAIN LOSS  0.5086843985155823  | TEST LOSS  0.5028010424039723\n",
      "EPOCH  387  | TRAIN LOSS  0.5076940447347666  | TEST LOSS  0.5017857999609826\n",
      "EPOCH  388  | TRAIN LOSS  0.5067107857643239  | TEST LOSS  0.5007738983413942\n",
      "EPOCH  389  | TRAIN LOSS  0.505732184866825  | TEST LOSS  0.4997718657965758\n",
      "EPOCH  390  | TRAIN LOSS  0.5047596294626099  | TEST LOSS  0.4987759344190361\n",
      "EPOCH  391  | TRAIN LOSS  0.503793863881345  | TEST LOSS  0.4977881791685704\n",
      "EPOCH  392  | TRAIN LOSS  0.5028341704969459  | TEST LOSS  0.4968052781638698\n",
      "EPOCH  393  | TRAIN LOSS  0.5018814187696801  | TEST LOSS  0.49582881123880995\n",
      "EPOCH  394  | TRAIN LOSS  0.5009350919438068  | TEST LOSS  0.49485788648367823\n",
      "EPOCH  395  | TRAIN LOSS  0.49999603082924315  | TEST LOSS  0.4938944844484556\n",
      "EPOCH  396  | TRAIN LOSS  0.499063756739248  | TEST LOSS  0.49293691127532724\n",
      "EPOCH  397  | TRAIN LOSS  0.498137790076903  | TEST LOSS  0.4919863617237173\n",
      "EPOCH  398  | TRAIN LOSS  0.4972182707979025  | TEST LOSS  0.49104182272901975\n",
      "EPOCH  399  | TRAIN LOSS  0.4963041963861321  | TEST LOSS  0.49010046958288744\n",
      "EPOCH  400  | TRAIN LOSS  0.4953959756735223  | TEST LOSS  0.48916386334386175\n",
      "EPOCH  401  | TRAIN LOSS  0.49449375248342675  | TEST LOSS  0.4882345403903013\n",
      "EPOCH  402  | TRAIN LOSS  0.4935979129229583  | TEST LOSS  0.487312397578056\n",
      "EPOCH  403  | TRAIN LOSS  0.49270734212374945  | TEST LOSS  0.48639366691035524\n",
      "EPOCH  404  | TRAIN LOSS  0.4918218302145752  | TEST LOSS  0.4854815144014392\n",
      "EPOCH  405  | TRAIN LOSS  0.49094215099881877  | TEST LOSS  0.4845767619536143\n",
      "EPOCH  406  | TRAIN LOSS  0.4900692244849386  | TEST LOSS  0.4836754061446152\n",
      "EPOCH  407  | TRAIN LOSS  0.4892024486731502  | TEST LOSS  0.48277990168976115\n",
      "EPOCH  408  | TRAIN LOSS  0.48834153614353654  | TEST LOSS  0.48189288903298866\n",
      "EPOCH  409  | TRAIN LOSS  0.48748667148906033  | TEST LOSS  0.48101007426826803\n",
      "EPOCH  410  | TRAIN LOSS  0.486637798392548  | TEST LOSS  0.4801331625477669\n",
      "EPOCH  411  | TRAIN LOSS  0.4857946954863796  | TEST LOSS  0.47925833072465784\n",
      "EPOCH  412  | TRAIN LOSS  0.4849558722767571  | TEST LOSS  0.4783899516387384\n",
      "EPOCH  413  | TRAIN LOSS  0.48412171834522233  | TEST LOSS  0.4775276822030921\n",
      "EPOCH  414  | TRAIN LOSS  0.48329344266789076  | TEST LOSS  0.4766711835161288\n",
      "EPOCH  415  | TRAIN LOSS  0.48246975290643557  | TEST LOSS  0.4758225537861074\n",
      "EPOCH  416  | TRAIN LOSS  0.4816511975885579  | TEST LOSS  0.4749770009906597\n",
      "EPOCH  417  | TRAIN LOSS  0.48083610078292843  | TEST LOSS  0.47413643459683963\n",
      "EPOCH  418  | TRAIN LOSS  0.4800266293458838  | TEST LOSS  0.47330169068164696\n",
      "EPOCH  419  | TRAIN LOSS  0.47922209294229917  | TEST LOSS  0.47246966401852114\n",
      "EPOCH  420  | TRAIN LOSS  0.478421931208172  | TEST LOSS  0.47164317205703354\n",
      "EPOCH  421  | TRAIN LOSS  0.47762736171924114  | TEST LOSS  0.47082432393878876\n",
      "EPOCH  422  | TRAIN LOSS  0.4768378981748541  | TEST LOSS  0.4700097554844486\n",
      "EPOCH  423  | TRAIN LOSS  0.47605253967009914  | TEST LOSS  0.4691974280362072\n",
      "EPOCH  424  | TRAIN LOSS  0.4752715993043253  | TEST LOSS  0.46839124894271267\n",
      "EPOCH  425  | TRAIN LOSS  0.4744955266172672  | TEST LOSS  0.4675882877222798\n",
      "EPOCH  426  | TRAIN LOSS  0.4737219081258736  | TEST LOSS  0.4667918168047153\n",
      "EPOCH  427  | TRAIN LOSS  0.4729529352819413  | TEST LOSS  0.4659988892413975\n",
      "EPOCH  428  | TRAIN LOSS  0.47218778427981906  | TEST LOSS  0.46521122438691714\n",
      "EPOCH  429  | TRAIN LOSS  0.4714264610192942  | TEST LOSS  0.4644276325180103\n",
      "EPOCH  430  | TRAIN LOSS  0.47066853359615407  | TEST LOSS  0.4636497481599483\n",
      "EPOCH  431  | TRAIN LOSS  0.4699145348330142  | TEST LOSS  0.4628757286887179\n",
      "EPOCH  432  | TRAIN LOSS  0.46916378416150073  | TEST LOSS  0.46210333408465315\n",
      "EPOCH  433  | TRAIN LOSS  0.4684168031885542  | TEST LOSS  0.46133463638424654\n",
      "EPOCH  434  | TRAIN LOSS  0.4676741931458095  | TEST LOSS  0.46056975362969915\n",
      "EPOCH  435  | TRAIN LOSS  0.4669354983926986  | TEST LOSS  0.4598097349994352\n",
      "EPOCH  436  | TRAIN LOSS  0.4662009499131391  | TEST LOSS  0.45905631744979836\n",
      "EPOCH  437  | TRAIN LOSS  0.4654703338815088  | TEST LOSS  0.4583059643074936\n",
      "EPOCH  438  | TRAIN LOSS  0.4647443860450982  | TEST LOSS  0.45755981621333497\n",
      "EPOCH  439  | TRAIN LOSS  0.4640220239356213  | TEST LOSS  0.4568176927568458\n",
      "EPOCH  440  | TRAIN LOSS  0.4633037749765261  | TEST LOSS  0.4560787066049056\n",
      "EPOCH  441  | TRAIN LOSS  0.4625901258484051  | TEST LOSS  0.45534170384691725\n",
      "EPOCH  442  | TRAIN LOSS  0.46187998657849477  | TEST LOSS  0.4546125764510152\n",
      "EPOCH  443  | TRAIN LOSS  0.4611749213703962  | TEST LOSS  0.4538882963977456\n",
      "EPOCH  444  | TRAIN LOSS  0.4604739395337354  | TEST LOSS  0.45316837759586204\n",
      "EPOCH  445  | TRAIN LOSS  0.4597770546154861  | TEST LOSS  0.45245040448208057\n",
      "EPOCH  446  | TRAIN LOSS  0.4590833980781632  | TEST LOSS  0.4517359584620574\n",
      "EPOCH  447  | TRAIN LOSS  0.4583934928963261  | TEST LOSS  0.4510252120426289\n",
      "EPOCH  448  | TRAIN LOSS  0.4577065889010121  | TEST LOSS  0.4503191258877895\n",
      "EPOCH  449  | TRAIN LOSS  0.4570234463977533  | TEST LOSS  0.4496153411148933\n",
      "EPOCH  450  | TRAIN LOSS  0.4563439260173321  | TEST LOSS  0.44891475745341736\n",
      "EPOCH  451  | TRAIN LOSS  0.45566762509934444  | TEST LOSS  0.4482133646862544\n",
      "EPOCH  452  | TRAIN LOSS  0.45499311419946864  | TEST LOSS  0.44751726753412663\n",
      "EPOCH  453  | TRAIN LOSS  0.4543225514733891  | TEST LOSS  0.44682417119177137\n",
      "EPOCH  454  | TRAIN LOSS  0.4536550965397592  | TEST LOSS  0.44613863742875526\n",
      "EPOCH  455  | TRAIN LOSS  0.4529904327544004  | TEST LOSS  0.4454560613871564\n",
      "EPOCH  456  | TRAIN LOSS  0.4523293993826635  | TEST LOSS  0.4447755915616922\n",
      "EPOCH  457  | TRAIN LOSS  0.4516715432669165  | TEST LOSS  0.4440987150369366\n",
      "EPOCH  458  | TRAIN LOSS  0.4510166912407053  | TEST LOSS  0.44342567118114246\n",
      "EPOCH  459  | TRAIN LOSS  0.45036432128768467  | TEST LOSS  0.44275646862060103\n",
      "EPOCH  460  | TRAIN LOSS  0.4497143067579931  | TEST LOSS  0.44209168219929196\n",
      "EPOCH  461  | TRAIN LOSS  0.44906682700061384  | TEST LOSS  0.44142896775003054\n",
      "EPOCH  462  | TRAIN LOSS  0.4484224001374999  | TEST LOSS  0.4407702257384117\n",
      "EPOCH  463  | TRAIN LOSS  0.44778059189676805  | TEST LOSS  0.44011446852718816\n",
      "EPOCH  464  | TRAIN LOSS  0.44714162449043443  | TEST LOSS  0.4394634323786099\n",
      "EPOCH  465  | TRAIN LOSS  0.44650650349336213  | TEST LOSS  0.43881333036797027\n",
      "EPOCH  466  | TRAIN LOSS  0.44587401291304624  | TEST LOSS  0.4381683402697873\n",
      "EPOCH  467  | TRAIN LOSS  0.4452447805224282  | TEST LOSS  0.43752856412475644\n",
      "EPOCH  468  | TRAIN LOSS  0.4446188591567515  | TEST LOSS  0.43689055210256367\n",
      "EPOCH  469  | TRAIN LOSS  0.4439960230857023  | TEST LOSS  0.43625202887629017\n",
      "EPOCH  470  | TRAIN LOSS  0.44337536433276853  | TEST LOSS  0.4356170807929911\n",
      "EPOCH  471  | TRAIN LOSS  0.44275731889451975  | TEST LOSS  0.434985320767375\n",
      "EPOCH  472  | TRAIN LOSS  0.4421415747204999  | TEST LOSS  0.4343534940323869\n",
      "EPOCH  473  | TRAIN LOSS  0.44152810830972156  | TEST LOSS  0.4337227785973782\n",
      "EPOCH  474  | TRAIN LOSS  0.44091693397534554  | TEST LOSS  0.4330965389860973\n",
      "EPOCH  475  | TRAIN LOSS  0.44030863502669043  | TEST LOSS  0.43247568650069224\n",
      "EPOCH  476  | TRAIN LOSS  0.43970347256141395  | TEST LOSS  0.4318581185116996\n",
      "EPOCH  477  | TRAIN LOSS  0.43910100055213225  | TEST LOSS  0.4312448070392337\n",
      "EPOCH  478  | TRAIN LOSS  0.43850163699003114  | TEST LOSS  0.43063127131713863\n",
      "EPOCH  479  | TRAIN LOSS  0.43790438529801096  | TEST LOSS  0.4300214707098755\n",
      "EPOCH  480  | TRAIN LOSS  0.43731074384011215  | TEST LOSS  0.42941318751308055\n",
      "EPOCH  481  | TRAIN LOSS  0.4367197756231303  | TEST LOSS  0.4288103721506112\n",
      "EPOCH  482  | TRAIN LOSS  0.4361313140656028  | TEST LOSS  0.4282127680424552\n",
      "EPOCH  483  | TRAIN LOSS  0.4355456416710951  | TEST LOSS  0.42761882618016817\n",
      "EPOCH  484  | TRAIN LOSS  0.43496301461705617  | TEST LOSS  0.42702439324993835\n",
      "EPOCH  485  | TRAIN LOSS  0.4343822007186112  | TEST LOSS  0.4264293496541892\n",
      "EPOCH  486  | TRAIN LOSS  0.4338036239245105  | TEST LOSS  0.42583700421624127\n",
      "EPOCH  487  | TRAIN LOSS  0.433227792917702  | TEST LOSS  0.4252471917867565\n",
      "EPOCH  488  | TRAIN LOSS  0.43265474712628293  | TEST LOSS  0.4246587283688349\n",
      "EPOCH  489  | TRAIN LOSS  0.4320839446273099  | TEST LOSS  0.4240732391446995\n",
      "EPOCH  490  | TRAIN LOSS  0.4315151199177563  | TEST LOSS  0.4234924611978719\n",
      "EPOCH  491  | TRAIN LOSS  0.4309488182179321  | TEST LOSS  0.42291358876504354\n",
      "EPOCH  492  | TRAIN LOSS  0.43038505063279253  | TEST LOSS  0.422337736904146\n",
      "EPOCH  493  | TRAIN LOSS  0.42982478038285826  | TEST LOSS  0.421765908034655\n",
      "EPOCH  494  | TRAIN LOSS  0.4292670058776299  | TEST LOSS  0.42119559346903945\n",
      "EPOCH  495  | TRAIN LOSS  0.42871208301046326  | TEST LOSS  0.4206272396487014\n",
      "EPOCH  496  | TRAIN LOSS  0.4281589397055638  | TEST LOSS  0.42006322340262375\n",
      "EPOCH  497  | TRAIN LOSS  0.42760734419094587  | TEST LOSS  0.41950057821226633\n",
      "EPOCH  498  | TRAIN LOSS  0.42705775354358777  | TEST LOSS  0.41893735760966144\n",
      "EPOCH  499  | TRAIN LOSS  0.4265098230651831  | TEST LOSS  0.4183767564802687\n",
      "EPOCH  500  | TRAIN LOSS  0.4259636617103821  | TEST LOSS  0.4178181508142125\n"
     ]
    }
   ],
   "source": [
    "## モデルの定義\n",
    "model = MLP_regressor()\n",
    "\n",
    "# 学習率\n",
    "lr = 0.01\n",
    "# 学習エポック数\n",
    "n_epoch = 500\n",
    "\n",
    "x_train = train_data[:, 0:2]\n",
    "t_train = train_data[:, 2:3]\n",
    "x_test = test_data[:, 0:2]\n",
    "t_test = test_data[:, 2:3]\n",
    "\n",
    "# n_epoch繰り返す\n",
    "for n in range(n_epoch):\n",
    "    # 訓練\n",
    "    # Chapter02範囲外のため、ミニバッチは使用しない\n",
    "    y = model.forward(x_train)\n",
    "    train_loss = MSE(t_train, y)\n",
    "    model.backward(t_train, y)\n",
    "    model.optimize_GradientDescent(lr)\n",
    "\n",
    "    # テスト\n",
    "    y = model.forward(x_test)\n",
    "    test_loss = MSE(t_test, y)\n",
    "\n",
    "    print(\"EPOCH \", n + 1, \" | TRAIN LOSS \", train_loss, \" | TEST LOSS \", test_loss)\n",
    "regression_loss = test_loss"
   ]
  },
  {
   "attachments": {},
   "cell_type": "markdown",
   "metadata": {
    "id": "v6GOoBM7bqOv"
   },
   "source": [
    "#### 予測データの散布図\n",
    "\n",
    "予測値の散布図と訓練データの散布図を比較してみましょう。"
   ]
  },
  {
   "cell_type": "code",
   "execution_count": 24,
   "metadata": {
    "id": "eC8XIEkAbr3l"
   },
   "outputs": [
    {
     "data": {
      "image/png": "[encoded data removed]",
      "text/plain": [
       "<Figure size 640x480 with 1 Axes>"
      ]
     },
     "metadata": {},
     "output_type": "display_data"
    }
   ],
   "source": [
    "y = model.forward(x_test)\n",
    "predict_data = np.concatenate([x_test, y], axis=1)\n",
    "plot_data(predict_data, \"Predict Data\")"
   ]
  },
  {
   "attachments": {},
   "cell_type": "markdown",
   "metadata": {
    "id": "Ru6K-JkAwpj8"
   },
   "source": [
    "## 分類モデル試験（スクラッチ）\n",
    "\n",
    "---"
   ]
  },
  {
   "attachments": {},
   "cell_type": "markdown",
   "metadata": {
    "id": "RrJK3aY1-8dC"
   },
   "source": [
    "### データ準備"
   ]
  },
  {
   "attachments": {},
   "cell_type": "markdown",
   "metadata": {
    "id": "UocOHTjtfF4i"
   },
   "source": [
    "回帰モデル試験では層ごとに変数を定義し全計算を実装しましたが、分類モデル試験ではクラスと計算グラフを利用し、より汎用的なモデルを設計します。\n",
    "\n",
    "#### データの読み込み\n",
    "この試験では、MNISTを使用し、全結合ネットワークで手書き数字の画像の10分類を行います。\n",
    "\n",
    "今回はデータセットとして、\"MNIST\"を用います。\n",
    "\n",
    "\"MNIST\"は0~9の手書き数字が画像になった画像データと書かれた数字の正解ラベルで構成されており、チュートリアルでよく使われています。データセット全体は70000件で構成されています。\n",
    "\n",
    "`sklearn`の`train_test_split`を用いてMNISTデータを訓練データとテストデータに分割します。\n",
    "\n",
    "引数`test_size=0.2`と指定することで、訓練データ:テストデータ = 8:2 に分割することが出来ます。\n",
    "\n",
    "データは 1チャンネル 28×28 の配列となっています。\n"
   ]
  },
  {
   "cell_type": "code",
   "execution_count": 25,
   "metadata": {
    "id": "fi9tFnnpfRIc"
   },
   "outputs": [],
   "source": [
    "# mnistデータセットのロード(ネットワーク接続が必要・少し時間がかかります)\n",
    "if os.path.exists(\"mnist_784\"):\n",
    "    with open(\"mnist_784\", \"rb\") as f:\n",
    "        mnist = pickle.load(f)\n",
    "else:\n",
    "    mnist = datasets.fetch_openml(\"mnist_784\", as_frame=False)\n",
    "    with open(\"mnist_784\", \"wb\") as f:\n",
    "        pickle.dump(mnist, f)\n",
    "\n",
    "# 画像とラベルを取得\n",
    "X, T = mnist.data, mnist.target\n",
    "# 訓練データとテストデータに分割\n",
    "X_train, X_test, T_train, T_test = train_test_split(X, T, test_size=0.2)"
   ]
  },
  {
   "cell_type": "code",
   "execution_count": 26,
   "metadata": {
    "id": "m38qlSsYfTHJ"
   },
   "outputs": [],
   "source": [
    "# ラベルデータをint型にし、one-hot-vectorに変換します\n",
    "T_train = np.eye(10)[T_train.astype(\"int\")]\n",
    "T_test = np.eye(10)[T_test.astype(\"int\")]"
   ]
  },
  {
   "attachments": {},
   "cell_type": "markdown",
   "metadata": {
    "id": "KIMb4eQzfWsM"
   },
   "source": [
    "#### one-hot-vectorとは？\n",
    "たとえば$a$が，0~9の整数のみを含むベクトルだとわかっている時に、各要素を数字に該当する列の要素のみが1、その他が0となるようなベクトルにする。\n",
    "$$\n",
    "\\begin{equation*}\n",
    "a=\n",
    "\\begin{pmatrix}\n",
    "1\\\\\n",
    "8\\\\\n",
    "4\\\\\n",
    "2\\\\\n",
    "0\n",
    "\\end{pmatrix}\\to\n",
    "a\\_onehot = \n",
    "\\begin{pmatrix}\n",
    "0, 1, 0, 0, 0, 0, 0, 0, 0, 0\\\\\n",
    "0, 0, 0, 0, 0, 0, 0, 0, 1, 0\\\\\n",
    "0, 0, 0, 0, 1, 0, 0, 0, 0, 0\\\\\n",
    "0, 0, 1, 0, 0, 0, 0, 0, 0, 0\\\\\n",
    "1, 0, 0, 0, 0, 0, 0, 0, 0, 0\n",
    "\\end{pmatrix}\n",
    "\\end{equation*}\n",
    "$$\n",
    "学習する正解ラベルデータは，one-hot-vectorで表されることが多い．"
   ]
  },
  {
   "attachments": {},
   "cell_type": "markdown",
   "metadata": {
    "id": "a0IwfNCXfZIa"
   },
   "source": [
    "#### データの構造\n",
    "データ数、画像データXの形、ラベルTの形などを調べます。"
   ]
  },
  {
   "cell_type": "code",
   "execution_count": 27,
   "metadata": {},
   "outputs": [
    {
     "name": "stdout",
     "output_type": "stream",
     "text": [
      "訓練データの画像の形: (56000, 784)\n",
      "テストデータの画像の形: (14000, 784)\n",
      "\n",
      "訓練データのラベルTの形: (56000, 10)\n",
      "テストデータのラベルTの形: (14000, 10)\n"
     ]
    }
   ],
   "source": [
    "print(\"訓練データの画像の形:\", X_train.shape)\n",
    "print(\"テストデータの画像の形:\", X_test.shape)\n",
    "\n",
    "print(\"\\n\"'訓練データのラベルTの形:', T_train.shape)\n",
    "print('テストデータのラベルTの形:', T_test.shape)"
   ]
  },
  {
   "attachments": {},
   "cell_type": "markdown",
   "metadata": {
    "id": "TPFS01Y0ffV2"
   },
   "source": [
    "#### データのサンプリング\n",
    "画像・ラベルデータをランダムにいくつか取り出して可視化します。\n",
    "画像は784要素の1次元ベクトルとしてXに格納されていますが、画像として表示するときは28x28の二次元にreshapeします。"
   ]
  },
  {
   "cell_type": "code",
   "execution_count": 28,
   "metadata": {
    "id": "PdvA1qlUfU6u"
   },
   "outputs": [
    {
     "data": {
      "image/png": "[encoded data removed]",
      "text/plain": [
       "<Figure size 640x480 with 1 Axes>"
      ]
     },
     "metadata": {},
     "output_type": "display_data"
    },
    {
     "name": "stdout",
     "output_type": "stream",
     "text": [
      "Label:  4\n"
     ]
    },
    {
     "data": {
      "image/png": "[encoded data removed]",
      "text/plain": [
       "<Figure size 640x480 with 1 Axes>"
      ]
     },
     "metadata": {},
     "output_type": "display_data"
    },
    {
     "name": "stdout",
     "output_type": "stream",
     "text": [
      "Label:  7\n"
     ]
    },
    {
     "data": {
      "image/png": "[encoded data removed]",
      "text/plain": [
       "<Figure size 640x480 with 1 Axes>"
      ]
     },
     "metadata": {},
     "output_type": "display_data"
    },
    {
     "name": "stdout",
     "output_type": "stream",
     "text": [
      "Label:  7\n"
     ]
    }
   ],
   "source": [
    "# テストデータをランダムサンプリング\n",
    "perm = np.random.permutation(len(X_test))\n",
    "# サンプル画像を表示する\n",
    "plt.gray()\n",
    "for i in perm[:3]:\n",
    "    plt.imshow(X_test[perm[i]].reshape(28, 28))\n",
    "    plt.show()\n",
    "    print(\"Label: \", np.argmax(T_test[perm[i]]))"
   ]
  },
  {
   "attachments": {},
   "cell_type": "markdown",
   "metadata": {
    "id": "jd1YSnMf_OKQ"
   },
   "source": [
    "### 多層パーセプトロンの定義"
   ]
  },
  {
   "attachments": {},
   "cell_type": "markdown",
   "metadata": {
    "id": "-Vk5jpEjfmuy"
   },
   "source": [
    "#### クロスエントロピー誤差\n",
    "以下の式で定義されるクロスエントロピー誤差を実装します。出題範囲ではないですが、確認しておいてください。<br>\n",
    "```\n",
    "引数:\n",
    "    t: [N, M] (np.float64)\n",
    "    y: [N, M] (np.float64)\n",
    "返値:\n",
    "    error: (np.float64)\n",
    "```\n",
    "\n",
    "```y == 0```のときlog関数が破綻しないよう、$ y $ に小さな値 $ \\delta = 10^{-8}$ を加算します。\n",
    "error は 以下の式に従います。\n",
    "$$ error = -\\frac {1}{N} \\sum_{n=1}^{N} \\sum_{m=1}^{M} {t_{nm} * \\log{(y_{nm} + \\delta)}} $$"
   ]
  },
  {
   "cell_type": "code",
   "execution_count": 29,
   "metadata": {
    "id": "j7ufABUNfiiV"
   },
   "outputs": [],
   "source": [
    "def cross_entropy_error(t, y):\n",
    "    \"\"\"クロスエントロピー誤差を計算します。\n",
    "\n",
    "    クロスエントロピー誤差は、正解ラベルと予測ラベルの間の不一致を評価するための指標です。\n",
    "\n",
    "    Args:\n",
    "        t (np.ndarray): 正解ラベルの配列。\n",
    "        y (np.ndarray): 予測ラベルの配列。\n",
    "\n",
    "    Returns:\n",
    "        float: クロスエントロピー誤差の値。\n",
    "\n",
    "    Raises:\n",
    "        ValueError: 入力されるtとyの形状が異なる、または、値が範囲外の場合。\n",
    "        TypeError: tやyがNumPyの配列型ではない場合。\n",
    "\n",
    "    例:\n",
    "        >>> cross_entropy_error(np.array([[0, 1], [1, 0]]), np.array([[0.1, 0.9], [0.7, 0.3]]))\n",
    "        0.23101771709986668\n",
    "\n",
    "    \"\"\"\n",
    "    delta = 1e-8\n",
    "    batch_size = t.shape[0]\n",
    "    error = -np.sum(t * np.log(y + delta)) / batch_size\n",
    "    return error"
   ]
  },
  {
   "attachments": {},
   "cell_type": "markdown",
   "metadata": {},
   "source": [
    "#### バイナリクロスエントロピー誤差\n",
    "以下の式で定義されるバイナリクロスエントロピー誤差を実装します。<br>今回の試験では使用しないですが、出力層が次元1の2値分類ではバイナリクロスエントロピー誤差を使用します。<br>\n",
    "```\n",
    "引数:\n",
    "    t: [N, 1] (np.float64)\n",
    "    y: [N, 1] (np.float64)\n",
    "返値:\n",
    "    error: (np.float64)\n",
    "```\n",
    "\n",
    "```y == 0``` または```y == 1```のときlog関数が破綻しないよう、$ y $ に小さな値 $ \\delta = 10^{-8}$ を加算または減算します。\n",
    "error は 以下の式に従います。\n",
    "$$ error = -\\frac {1}{N} \\sum_{n=1}^{N}({t_n*\\log(y_n+\\delta) + (1-t_n)\\log(1-(y_n - \\delta))}) $$"
   ]
  },
  {
   "cell_type": "code",
   "execution_count": 30,
   "metadata": {},
   "outputs": [],
   "source": [
    "def binary_cross_entropy_error(t, y):\n",
    "    \"\"\"バイナリクロスエントロピー誤差を計算します。\n",
    "\n",
    "    2クラス分類問題の評価指標として使用される誤差関数です。\n",
    "\n",
    "    Args:\n",
    "        t (np.ndarray): 正解ラベルの配列（0または1の値を持つ）。\n",
    "        y (np.ndarray): 予測ラベルの配列（0から1の間の確率値を持つ）。\n",
    "\n",
    "    Returns:\n",
    "        float: バイナリクロスエントロピー誤差の値。\n",
    "\n",
    "    Raises:\n",
    "        ValueError: 入力されるtとyの形状が異なる、または、値が範囲外の場合。\n",
    "        TypeError: tやyがNumPyの配列型ではない場合。\n",
    "\n",
    "    例:\n",
    "        >>> binary_cross_entropy_error(np.array([1, 0]), np.array([0.9, 0.1]))\n",
    "        0.1053604045467214\n",
    "\n",
    "    \"\"\"\n",
    "    delta = 1e-8\n",
    "    batch_size = t.shape[0]\n",
    "    error = -np.sum(t * np.log(y + delta) + (1 - t)*np.log(1-(y - delta)))/batch_size\n",
    "    return error"
   ]
  },
  {
   "attachments": {},
   "cell_type": "markdown",
   "metadata": {
    "id": "xI5eIqICfvqW"
   },
   "source": [
    "#### ソフトマックスクロスエントロピー誤差\n",
    "ソフトマックスクロスエントロピー誤差のクラスを実装します。出題範囲ではないですが、確認しておいてください。<br>\n",
    "順伝播```__call__(self, t, y)```ではyのソフトマックスを取り、tとのクロスエントロピー誤差を返します。その際にyとtをインスタンス変数self.yとself.tに記憶します。関数名を```__call__```としているのは、**関数オブジェクト**を作ることで\"インスタンス名()\"で順伝播を呼び出せるようにするためです。<br>\n",
    "逆伝播```backward(self)```では、順伝播で記憶されたself.yとself.tを使用して誤差に対するyの勾配dyを計算します。<br>\n",
    "yの勾配は以下の式に従います。<br>\n",
    "※コードの```dy```と式の$ dy $は意味が異なり、```dy``` = $ \\frac {dL(t, y)}{dy} $であることに注意してください。\n",
    "$$ \\frac {dL(t, y)}{dy} = y - t $$\n",
    "また、以降の計算ではバッチの平均を取るため、dyはバッチサイズで割ってから返します。"
   ]
  },
  {
   "cell_type": "code",
   "execution_count": 31,
   "metadata": {
    "id": "iw9sqMo8fqiu"
   },
   "outputs": [],
   "source": [
    "class SoftmaxCrossEntropyLoss():\n",
    "    \"\"\"ソフトマックス関数とクロスエントロピー誤差を組み合わせた損失関数のクラス。\n",
    "\n",
    "    Attributes:\n",
    "        y (np.ndarray): ソフトマックス関数の出力。\n",
    "        t (np.ndarray): 正解ラベルの配列。\n",
    "        loss (float): 計算された損失値。\n",
    "    \"\"\"\n",
    "\n",
    "    def __init__(self):\n",
    "        \"\"\"\n",
    "        SoftmaxCrossEntropyLossクラスのインスタンスを初期化します。\n",
    "        \"\"\"\n",
    "        self.y = None\n",
    "        self.t = None\n",
    "        self.loss = None\n",
    "\n",
    "    def __call__(self, t, y):\n",
    "        \"\"\"クラスのインスタンスを関数のように呼び出して損失値を計算します。\n",
    "\n",
    "        Args:\n",
    "            t (np.ndarray): 正解ラベルの配列。\n",
    "            y (np.ndarray): ネットワークの出力。\n",
    "\n",
    "        Returns:\n",
    "            float: 損失の値。\n",
    "        \"\"\"\n",
    "        self.y = softmax(y)\n",
    "        self.t = t.copy()\n",
    "        self.loss = cross_entropy_error(self.t, self.y)\n",
    "        return self.loss\n",
    "\n",
    "    def backward(self):\n",
    "        \"\"\"損失関数に対する逆伝播を行い、勾配を計算します。\n",
    "\n",
    "        Returns:\n",
    "            np.ndarray: 勾配の配列。\n",
    "        \"\"\"\n",
    "        batch_size = self.t.shape[0]\n",
    "        dy = self.y - self.t\n",
    "        dy /= batch_size\n",
    "        return dy"
   ]
  },
  {
   "attachments": {},
   "cell_type": "markdown",
   "metadata": {
    "id": "ZEoZImPtf-Zd"
   },
   "source": [
    "#### 全結合層\n",
    "\n",
    "```\n",
    "インスタンス変数:\n",
    "    self.w: [M, L] (np.float64)\n",
    "            層の重み。正規分布で初期化。\n",
    "    self.b: [L] (np.float64)\n",
    "            層のバイアス。ゼロで初期化。\n",
    "    self.x: [N, M] (np.float64)\n",
    "            層の入力信号を記録。Nはバッチサイズ。\n",
    "    self.dw: [M, L] (np.float64)\n",
    "            層の重みの勾配\n",
    "    self.db: [L] (np.float64)\n",
    "            層のバイアスの勾配\n",
    "            \n",
    "__call__(self, x):\n",
    "    引数:\n",
    "        x: [N, M] (np.float64)\n",
    "            入力信号\n",
    "    返値:\n",
    "        out: [N, L] (np.float64)\n",
    "            出力信号\n",
    "\n",
    "backward(self, dout):\n",
    "    引数:\n",
    "        dout: [N, L] (np.float64)\n",
    "            出力信号の勾配\n",
    "    返値:\n",
    "        dx: [N, M] (np.float64)\n",
    "            入力信号の勾配\n",
    "        \n",
    "```\n",
    "順伝播```__call__(self, x)```は入力信号xを層の重み```self.w```とバイアス```self.b```でアフィン変換し出力とします。\n",
    "計算は以下の式に従います。\n",
    "$$ \\text{Affine}(x) = out = x \\cdot w + b $$\n",
    "逆伝播```backward(self, dout)```は出力側の勾配[L, M]を入力側に逆伝播させます。入力の勾配```dx```、重みの勾配```dw```、バイアスの勾配```db```それぞれを計算し、```dx```を返します。\n",
    "計算は以下の式に従います。\n",
    "\n",
    "$$ \n",
    "\\begin{align}\n",
    "\\text{grad}(x_{ij}) &= \\sum_{k} \\text{grad}(out_{ik}) \\frac{dout_{ik}}{dx_{ij}} \\\\\n",
    "\\text{grad}(x_{ij}) &= \\sum_{k}\\text{grad}(out_{ik})w_{jk} \\\\\n",
    "\\text{grad}(x) &= \\text{grad}(out) \\cdot w^T \\\\ \\space \\\\\n",
    "\\end{align}\n",
    "$$ \n",
    "\n",
    "$$ \n",
    "\\begin{align}\n",
    "\\text{grad}(w_{jk}) &= \\sum_{i} \\text{grad}(out_{ik}) \\frac{dout_{ik}}{dw_{jk}} \\\\\n",
    "\\text{grad}(w_{jk}) &= \\sum_{i} \\text{grad}(out_{ik})x_{ij} \\\\\n",
    "\\text{grad}(w) &= x^T \\cdot \\text{grad}(out) \\\\ \\space \\\\\n",
    "\\end{align}\n",
    "$$\n",
    "\n",
    "$$ \n",
    "\\begin{align}\n",
    "\\text{grad}(b_{k}) &= \\sum_{i} \\text{grad}(out_{ik}) \\frac{dout_{ik}}{db_{k}} \\\\\n",
    "\\text{grad}(b) &= \\sum_{i} \\text{grad}(out_{i}) \n",
    "\\end{align}\n",
    "$$\n",
    "\n",
    "\n",
    "    \n",
    "実装コードでは$ \\text{grad}(x) $ = ```dx```, $ \\text{grad}(w) $ = ```dw```, $ \\text{grad}(b) $ = ```db```と命名されています。 \n",
    "\n",
    "* <font color=\"Red\">問7. 全結合層クラスを完成させてください。</font>\n",
    "  * <font color=\"Red\">問7-1. self.x, self.w, self.bの3つの変数を用いて順伝播の出力式を記述してください。</font>\n",
    "  * <font color=\"Red\">問7-2. 出力信号の勾配doutとself.wを用いて入力信号の勾配を算出する式を記述しましょう。</font>\n",
    "  * <font color=\"Red\">問7-3. 逆伝播に使う勾配self.dwを算出する式を記述しましょう。</font>\n",
    "  * <font color=\"Red\">問7-4. 逆伝播に使う勾配self.dbを算出する式を記述しましょう。</font>"
   ]
  },
  {
   "cell_type": "code",
   "execution_count": 32,
   "metadata": {
    "id": "N_yZDXZ0f75f"
   },
   "outputs": [],
   "source": [
    "class FullyConnectedLayer():\n",
    "    \"\"\"全結合層（FC層）のクラス。\n",
    "\n",
    "    Attributes:\n",
    "        w (np.ndarray): この層の重み。\n",
    "        b (np.ndarray): この層のバイアス。\n",
    "        x (np.ndarray): 最後の順伝播の際の入力。\n",
    "        dw (np.ndarray): 重みの勾配。\n",
    "        db (np.ndarray): バイアスの勾配。\n",
    "    \"\"\"\n",
    "\n",
    "    def __init__(self, input_shape, output_shape):\n",
    "        \"\"\"FullyConnectedLayerクラスのインスタンスを初期化します。\n",
    "\n",
    "        Args:\n",
    "            input_shape (int): 入力の形状（入力ノード数）。\n",
    "            output_shape (int): 出力の形状（出力ノード数）。\n",
    "        \"\"\"\n",
    "        self.w = np.random.randn(input_shape, output_shape) * 0.01\n",
    "        self.b = np.zeros(output_shape, dtype=np.float64)\n",
    "        self.x = None\n",
    "        self.dw = None\n",
    "        self.db = None\n",
    "\n",
    "    def __call__(self, x):\n",
    "        \"\"\"クラスのインスタンスを関数のように呼び出して、順伝播を行います。\n",
    "\n",
    "        Args:\n",
    "            x (np.ndarray): この層への入力。\n",
    "\n",
    "        Returns:\n",
    "            np.ndarray: この層の出力。\n",
    "        \"\"\"\n",
    "        self.x = x\n",
    "        out = np.dot(self.x, self.w) + self.b ### 問7-1 ###\n",
    "        return out\n",
    "\n",
    "    def backward(self, dout):\n",
    "        \"\"\"逆伝播を行い、入力に対する勾配を計算します。\n",
    "\n",
    "        Args:\n",
    "            dout (np.ndarray): この層の出力に対する勾配。\n",
    "\n",
    "        Returns:\n",
    "            np.ndarray: この層の入力に対する勾配。\n",
    "        \"\"\"\n",
    "        dx = np.dot(dout, self.w.T) ### 問7-2 ###\n",
    "        self.dw = np.dot(self.x.T, dout) ### 問7-3 ###\n",
    "        self.db = np.sum(dout, axis=0) ### 問7-4 ###\n",
    "        return dx"
   ]
  },
  {
   "attachments": {},
   "cell_type": "markdown",
   "metadata": {
    "id": "Dnh-VU6q-a7N"
   },
   "source": [
    "#### ReLUクラス\n",
    "\n",
    "```\n",
    "インスタンス変数:\n",
    "    self.mask: [N, M] np.bool\n",
    "               マスクされるxのフラッグ\n",
    "               \n",
    "__call__(self, x):\n",
    "    引数:\n",
    "        x: [N, M] np.float64\n",
    "    返値:\n",
    "        out: [N, M] np.float64\n",
    "\n",
    "backward(self, dout):\n",
    "    引数:\n",
    "        dout: [N, M] np.float64\n",
    "    返値:\n",
    "        dx: [N, M] np.float64\n",
    "    \n",
    "```\n",
    "\n",
    "ReLUの順伝播と逆伝播をクラスで実装します。\n",
    "順伝播```__call__(self, x)```は入力信号xに対して、```x <= 0```部分が `True`、それ以外は `False` となるような行列self.maskを定義します。numpy配列の**ブールインデックス参照**を利用し、xのマスク部を0に変換し返します。\n",
    "逆伝播```backward(self, dout)```は出力信号の勾配doutの保存されたマスク部を0に変換し、dxとして入力信号の勾配を返します。\n",
    "\n",
    "* <font color=\"Red\">問8. ReLUクラスを完成させてください。</font>\n",
    "  * <font color=\"Red\">問8-1. マスク部のフラグであるself.maskを用いて、xのマスク部を0に変換する式を記述しましょう。</font>\n",
    "  * <font color=\"Red\">問8-2. マスク部のフラグであるself.maskを用いて、出力信号の勾配doutのマスク部を0に変換する式を記述しましょう。</font>"
   ]
  },
  {
   "cell_type": "code",
   "execution_count": 33,
   "metadata": {
    "id": "0jja7vZi-VlI"
   },
   "outputs": [],
   "source": [
    "class ReLU():\n",
    "    \"\"\"ReLU (Rectified Linear Unit) 活性化関数のクラス。\n",
    "\n",
    "    Attributes:\n",
    "        mask (np.ndarray): 入力の中で0以下の値を持つ位置を示すブール型のマスク。\n",
    "    \"\"\"\n",
    "\n",
    "    def __init__(self):\n",
    "        \"\"\"\n",
    "        ReLUクラスのインスタンスを初期化します。\n",
    "        \"\"\"\n",
    "        self.mask = None\n",
    "\n",
    "    def __call__(self, x):\n",
    "        \"\"\"クラスのインスタンスを関数のように呼び出して、ReLU活性化関数を適用します。\n",
    "\n",
    "        Args:\n",
    "            x (np.ndarray): ReLU関数への入力。\n",
    "\n",
    "        Returns:\n",
    "            np.ndarray: ReLU関数の出力。\n",
    "        \"\"\"\n",
    "        self.mask = x <= 0\n",
    "        out = x.copy()\n",
    "        out[self.mask] = 0 ### 問8-1 ###\n",
    "        return out\n",
    "\n",
    "    def backward(self, dout):\n",
    "        \"\"\"ReLU関数に対する逆伝播を行い、入力に対する勾配を計算します。\n",
    "\n",
    "        Args:\n",
    "            dout (np.ndarray): ReLU関数の出力に対する勾配。\n",
    "\n",
    "        Returns:\n",
    "            np.ndarray: ReLU関数の入力に対する勾配。\n",
    "        \"\"\"\n",
    "        dout[self.mask] = 0 ### 問8-2 ###\n",
    "        dx = dout\n",
    "\n",
    "        return dx"
   ]
  },
  {
   "attachments": {},
   "cell_type": "markdown",
   "metadata": {},
   "source": [
    "#### Sigmoidクラス\n",
    "\n",
    "```\n",
    "インスタンス変数:\n",
    "    self.out: [N, M] np.float64\n",
    "               \n",
    "__call__(self, x):\n",
    "    引数:\n",
    "        x: [N, M] np.float64\n",
    "    返値:\n",
    "        out: [N, M] np.float64\n",
    "\n",
    "backward(self, dout):\n",
    "    引数:\n",
    "        dout: [N, M] np.float64\n",
    "    返値:\n",
    "        dx: [N, M] np.float64\n",
    "    \n",
    "```\n",
    "\n",
    "Sigmoidの順伝播と逆伝播をクラスで実装します。\n",
    "順伝播```__call__(self, x)```\n",
    "は入力信号xに対して、```sigmoid(x)```計算します。\\\n",
    "逆伝播```backward(self, dout)```は出力信号の勾配doutに対して、以下の計算を施すことでdxとして入力信号の勾配を返します。\n",
    "$$ \\frac {dL}{dx} = \\frac {dL}{dy} y(1-y)$$\n",
    "\n",
    "* <font color=\"Red\">問9. Sigmoidクラスを完成させてください。</font>\n",
    "  * <font color=\"Red\">問9-1. 問3で実装したsigmoid関数を用いて、入力信号xに対してsigmoid(x)を記述しましょう。</font>\n",
    "  * <font color=\"Red\">問9-2. 出力信号の勾配doutとSigmoid関数の勾配(上式)を用いて、入力信号の勾配dxを記述しましょう。</font>"
   ]
  },
  {
   "cell_type": "code",
   "execution_count": 34,
   "metadata": {},
   "outputs": [],
   "source": [
    "class Sigmoid():\n",
    "    \"\"\"シグモイド活性化関数のクラス。\n",
    "\n",
    "    Attributes:\n",
    "        out (np.ndarray): シグモイド関数の出力。\n",
    "    \"\"\"\n",
    "\n",
    "    def __init__(self):\n",
    "        \"\"\"\n",
    "        Sigmoidクラスのインスタンスを初期化します。\n",
    "        \"\"\"\n",
    "        self.out = None\n",
    "\n",
    "    def __call__(self, x):\n",
    "        \"\"\"クラスのインスタンスを関数のように呼び出して、シグモイド活性化関数を適用します。\n",
    "\n",
    "        Args:\n",
    "            x (np.ndarray): シグモイド関数への入力。\n",
    "\n",
    "        Returns:\n",
    "            np.ndarray: シグモイド関数の出力。\n",
    "        \"\"\"\n",
    "        out = sigmoid(x) ### 問9-1 ###\n",
    "        self.out = out\n",
    "        return out\n",
    "\n",
    "    def backward(self, dout):\n",
    "        \"\"\"シグモイド関数に対する逆伝播を行い、入力に対する勾配を計算します。\n",
    "\n",
    "        Args:\n",
    "            dout (np.ndarray): シグモイド関数の出力に対する勾配。\n",
    "\n",
    "        Returns:\n",
    "            np.ndarray: シグモイド関数の入力に対する勾配。\n",
    "        \"\"\"\n",
    "        dx = dout * self.out * (1 - self.out) ### 問9-2 ###\n",
    "\n",
    "        return dx"
   ]
  },
  {
   "attachments": {},
   "cell_type": "markdown",
   "metadata": {},
   "source": [
    "#### Tanhクラス\n",
    "\n",
    "```\n",
    "インスタンス変数:\n",
    "    self.out: [N, M] np.float64\n",
    "               \n",
    "__call__(self, x):\n",
    "    引数:\n",
    "        x: [N, M] np.float64\n",
    "    返値:\n",
    "        out: [N, M] np.float64\n",
    "\n",
    "backward(self, dout):\n",
    "    引数:\n",
    "        dout: [N, M] np.float64\n",
    "    返値:\n",
    "        dx: [N, M] np.float64\n",
    "    \n",
    "```\n",
    "\n",
    "Tanhの順伝播と逆伝播をクラスで実装します。\n",
    "順伝播```__call__(self, x)```\n",
    "は入力信号xに対して、```tanh(x)```計算します。\\\n",
    "逆伝播```backward(self, dout)```は出力信号の勾配doutに対して、以下の計算を施すことでdxとして入力信号の勾配を返します。\n",
    "\\begin{align}\n",
    "\\frac {dL}{dx} &= \\frac {dL}{dy} \\frac {4}{(e^x + e^{-x})^2}\\\\\n",
    "&=\\frac {dL}{dy} \\frac {1}{\\text{cosh}^2x}\n",
    "\\end{align}\n",
    "\n",
    "ここでは、$ \\text{cosh} x$という関数が使われているが、ハイパボリックコサインといい。双曲線関数の1つで以下のような関数である。\n",
    "$$ \\text{cosh} x = \\frac {e^x + e^{-x}}{2}$$ \n",
    "\n",
    "* <font color=\"Red\">問10. Tanhクラスを完成させてください。</font>\n",
    "  * <font color=\"Red\">問10-1. 問4で実装したtanh関数を用いて、入力信号xに対してtanh(x)を記述しましょう。</font>\n",
    "  * <font color=\"Red\">問10-2. 出力信号の勾配doutとTanh関数の勾配(上式)を用いて、入力信号の勾配dxを記述しましょう。</font>"
   ]
  },
  {
   "cell_type": "code",
   "execution_count": 35,
   "metadata": {},
   "outputs": [],
   "source": [
    "class Tanh():\n",
    "    \"\"\"双曲線正接 (Hyperbolic Tangent) 活性化関数のクラス。\n",
    "\n",
    "    Attributes:\n",
    "        out (np.ndarray): tanh関数の出力。\n",
    "        x (np.ndarray): 最後の順伝播の際の入力。\n",
    "    \"\"\"\n",
    "\n",
    "    def __init__(self):\n",
    "        \"\"\"\n",
    "        Tanhクラスのインスタンスを初期化します。\n",
    "        \"\"\"\n",
    "        self.out = None\n",
    "\n",
    "    def __call__(self, x):\n",
    "        \"\"\"クラスのインスタンスを関数のように呼び出して、tanh活性化関数を適用します。\n",
    "\n",
    "        Args:\n",
    "            x (np.ndarray): tanh関数への入力。\n",
    "\n",
    "        Returns:\n",
    "            np.ndarray: tanh関数の出力。\n",
    "        \"\"\"\n",
    "        out = tanh(x) ### 問10-1 ###\n",
    "        self.x = x\n",
    "        self.out = out\n",
    "        return out\n",
    "\n",
    "    def backward(self, dout):\n",
    "        \"\"\"tanh関数に対する逆伝播を行い、入力に対する勾配を計算します。\n",
    "\n",
    "        Args:\n",
    "            dout (np.ndarray): tanh関数の出力に対する勾配。\n",
    "\n",
    "        Returns:\n",
    "            np.ndarray: tanh関数の入力に対する勾配。\n",
    "        \"\"\"\n",
    "        dx = dout * 4 / np.square(np.exp(self.x) + np.exp(-self.x)) ### 問10-2 ###\n",
    "        \n",
    "        return dx"
   ]
  },
  {
   "attachments": {},
   "cell_type": "markdown",
   "metadata": {},
   "source": [
    "#### Leaky ReLUクラス\n",
    "\n",
    "```\n",
    "インスタンス変数:\n",
    "    self.mask: [N, M] np.bool\n",
    "               マスクされるxのフラッグ\n",
    "               \n",
    "__call__(self, x, alpha=0.01):\n",
    "    引数:\n",
    "        x: [N, M] np.float64\n",
    "    返値:\n",
    "        out: [N, M] np.float64\n",
    "\n",
    "backward(self, dout):\n",
    "    引数:\n",
    "        dout: [N, M] np.float64\n",
    "    返値:\n",
    "        dx: [N, M] np.float64\n",
    "    \n",
    "```\n",
    "\n",
    "Leaky ReLUの順伝播と逆伝播をクラスで実装します。\n",
    "順伝播```__call__(self, x)```は入力信号xに対して、```x <= 0```部分が `True`、それ以外は `False` となるような行列self.maskを定義します。numpy配列の**ブールインデックス参照**を利用し、xのマスク部にalphaを掛け算を施します。\n",
    "逆伝播```backward(self, dout)```は出力信号の勾配doutの保存されたマスク部にalphaを掛け、dxとして入力信号の勾配を返します。\n",
    "\n",
    "* <font color=\"Red\">問11. Leaky ReLUクラスを完成させてください。</font>\n",
    "  * <font color=\"Red\">問11-1. マスク部のフラグであるself.maskを用いて、xのマスク部をalpha倍する式を記述しましょう。</font>\n",
    "  * <font color=\"Red\">問11-2. マスク部のフラグであるself.maskを用いて、出力信号の勾配doutのマスク部をalpha倍する式を記述しましょう。</font>"
   ]
  },
  {
   "cell_type": "code",
   "execution_count": 36,
   "metadata": {},
   "outputs": [],
   "source": [
    "class Leaky_ReLU():\n",
    "    \"\"\"Leaky Rectified Linear Unit (リーキーReLU) 活性化関数のクラス。\n",
    "\n",
    "    Attributes:\n",
    "        mask (np.ndarray): 入力の中で0以下の値を持つ位置を示すブール型のマスク。\n",
    "        alpha (float): 0以下の入力に適用される勾配の値。\n",
    "    \"\"\"\n",
    "\n",
    "    def __init__(self, alpha=0.01):\n",
    "        \"\"\"Leaky_ReLUクラスのインスタンスを初期化します。\n",
    "\n",
    "        Args:\n",
    "            alpha (float, optional): 0以下の入力に適用される勾配の値。デフォルトは0.01。\n",
    "        \"\"\"\n",
    "        self.mask = None\n",
    "        self.alpha = alpha\n",
    "\n",
    "    def __call__(self, x):\n",
    "        \"\"\"クラスのインスタンスを関数のように呼び出して、リーキーReLU活性化関数を適用します。\n",
    "\n",
    "        Args:\n",
    "            x (np.ndarray): リーキーReLU関数への入力。\n",
    "\n",
    "        Returns:\n",
    "            np.ndarray: リーキーReLU関数の出力。\n",
    "        \"\"\"\n",
    "        self.mask = x <= 0\n",
    "        out = x.copy()\n",
    "        out[self.mask] = out[self.mask] * self.alpha ### 問11-1 ###\n",
    "        return out\n",
    "\n",
    "    def backward(self, dout):\n",
    "        \"\"\"リーキーReLU関数に対する逆伝播を行い、入力に対する勾配を計算します。\n",
    "\n",
    "        Args:\n",
    "            dout (np.ndarray): リーキーReLU関数の出力に対する勾配。\n",
    "\n",
    "        Returns:\n",
    "            np.ndarray: リーキーReLU関数の入力に対する勾配。\n",
    "        \"\"\"\n",
    "        dout[self.mask] = dout[self.mask] * self.alpha ### 問11-2 ###\n",
    "        dx = dout\n",
    "\n",
    "        return dx"
   ]
  },
  {
   "attachments": {},
   "cell_type": "markdown",
   "metadata": {
    "id": "R__MWU-D_XiC"
   },
   "source": [
    "問題は以上になります。以下のモデルの構築と学習で実装が正しいことを確認しましょう。"
   ]
  },
  {
   "attachments": {},
   "cell_type": "markdown",
   "metadata": {
    "id": "kXZ3WpsA_ZqL"
   },
   "source": [
    "#### モデルの構築\n",
    "\n",
    "これまで各種の層をクラスで定義できましたので、ここではそれらを組み合わせることでモデルを簡単に設計することができます。問題にはなっていませんが、コードからモデルの構築の全体像を把握しましょう。"
   ]
  },
  {
   "cell_type": "code",
   "execution_count": 37,
   "metadata": {
    "id": "Klo5WCPT-in4"
   },
   "outputs": [],
   "source": [
    "class MLP_classifier():\n",
    "    \"\"\"多層パーセプトロン(MLP)による分類器。\n",
    "\n",
    "    このクラスは3層のニューラルネットワークを実装しています。\n",
    "    ネットワークの構造は以下の通りです:\n",
    "    x -> fc(784, 256) -> relu -> fc(256, 256) -> relu -> fc(256, 10) -> out\n",
    "\n",
    "    Attributes:\n",
    "        fc1 (FullyConnectedLayer): 入力層。\n",
    "        relu1 (ReLU): 第1のReLU活性化関数。\n",
    "        fc2 (FullyConnectedLayer): 第1の隠れ層。\n",
    "        relu2 (ReLU): 第2のReLU活性化関数。\n",
    "        fc3 (FullyConnectedLayer): 第2の隠れ層。\n",
    "        out (array-like): ネットワークの出力。\n",
    "        criterion (SoftmaxCrossEntropyLoss): 損失関数。\n",
    "    \"\"\"\n",
    "\n",
    "    def __init__(self):\n",
    "        \"\"\" MLP_classifierを初期化する。\n",
    "\n",
    "        ネットワークの構造:\n",
    "        x -> fc(784, 256) -> relu -> fc(256, 256) -> relu -> fc(256, 10) -> out\n",
    "        \"\"\"\n",
    "        # 層の定義\n",
    "        self.fc1 = FullyConnectedLayer(784, 256)\n",
    "        self.relu1 = ReLU()\n",
    "        self.fc2 = FullyConnectedLayer(256, 256)\n",
    "        self.relu2 = ReLU()\n",
    "        self.fc3 = FullyConnectedLayer(256, 10)\n",
    "        self.out = None\n",
    "\n",
    "        # 損失関数の定義\n",
    "        self.criterion = SoftmaxCrossEntropyLoss()\n",
    "\n",
    "    def forward(self, x):\n",
    "        \"\"\"入力をネットワークに順伝播させる。\n",
    "\n",
    "        Args:\n",
    "            x (array-like): 入力データ。\n",
    "\n",
    "        Returns:\n",
    "            array-like: ネットワークの出力。\n",
    "\n",
    "        Raises:\n",
    "            ValueError: 入力が不適切な場合。\n",
    "        \"\"\"\n",
    "        x = self.relu1(self.fc1(x))\n",
    "        x = self.relu2(self.fc2(x))\n",
    "        self.out = self.fc3(x)\n",
    "\n",
    "        # 勾配計算の都合上softmaxはこの順伝播関数内では行わない\n",
    "        # 予測するときはさらにsoftmaxを通す必要がある\n",
    "        return self.out\n",
    "\n",
    "    def backward(self, t):\n",
    "        \"\"\"逆伝播を通してネットワークの勾配を計算する。\n",
    "\n",
    "        Args:\n",
    "            t (array-like): 正解のラベル。\n",
    "\n",
    "        Returns:\n",
    "            float: 計算された誤差。\n",
    "\n",
    "        Raises:\n",
    "            ValueError: 正解ラベルの形状が不適切な場合。\n",
    "        \"\"\"\n",
    "        # 誤差を計算\n",
    "        loss = self.criterion(t, self.out)\n",
    "        # 勾配を逆伝播\n",
    "        d = self.criterion.backward()\n",
    "        d = self.fc3.backward(d)\n",
    "        d = self.relu2.backward(d)\n",
    "        d = self.fc2.backward(d)\n",
    "        d = self.relu1.backward(d)\n",
    "        d = self.fc1.backward(d)\n",
    "\n",
    "        return loss\n",
    "\n",
    "    def optimize_GradientDescent(self, lr):\n",
    "        \"\"\"勾配降下法でネットワークのパラメータを更新する。\n",
    "\n",
    "        Args:\n",
    "            lr (float): 学習率。\n",
    "\n",
    "        Raises:\n",
    "            ValueError: 学習率が不適切な場合。\n",
    "        \"\"\"\n",
    "        for fc in [self.fc1, self.fc2, self.fc3]:\n",
    "            fc.w -= lr * fc.dw\n",
    "            fc.b -= lr * fc.db"
   ]
  },
  {
   "attachments": {},
   "cell_type": "markdown",
   "metadata": {
    "id": "_wRhOvXv_eVx"
   },
   "source": [
    "#### 学習\n",
    "\n",
    "20epochで分類精度が80%以上になっていれば学習は成功していると言えます。"
   ]
  },
  {
   "cell_type": "code",
   "execution_count": 38,
   "metadata": {
    "id": "DIHj9ChW_b1v"
   },
   "outputs": [
    {
     "name": "stdout",
     "output_type": "stream",
     "text": [
      "EPOCH 1 | TRAIN LOSS 2.40216 | TEST LOSS 2.26631 | ACCURACY 12.41%\n",
      "EPOCH 2 | TRAIN LOSS 2.26674 | TEST LOSS 2.17067 | ACCURACY 27.91%\n",
      "EPOCH 3 | TRAIN LOSS 2.17075 | TEST LOSS 2.07996 | ACCURACY 43.39%\n",
      "EPOCH 4 | TRAIN LOSS 2.07978 | TEST LOSS 1.98779 | ACCURACY 54.13%\n",
      "EPOCH 5 | TRAIN LOSS 1.98740 | TEST LOSS 1.89150 | ACCURACY 60.68%\n",
      "EPOCH 6 | TRAIN LOSS 1.89081 | TEST LOSS 1.78992 | ACCURACY 64.69%\n",
      "EPOCH 7 | TRAIN LOSS 1.78889 | TEST LOSS 1.68335 | ACCURACY 67.63%\n",
      "EPOCH 8 | TRAIN LOSS 1.68192 | TEST LOSS 1.57334 | ACCURACY 69.88%\n",
      "EPOCH 9 | TRAIN LOSS 1.57153 | TEST LOSS 1.46274 | ACCURACY 72.01%\n",
      "EPOCH 10 | TRAIN LOSS 1.46053 | TEST LOSS 1.35500 | ACCURACY 73.57%\n",
      "EPOCH 11 | TRAIN LOSS 1.35240 | TEST LOSS 1.25355 | ACCURACY 75.27%\n",
      "EPOCH 12 | TRAIN LOSS 1.25055 | TEST LOSS 1.16095 | ACCURACY 76.46%\n",
      "EPOCH 13 | TRAIN LOSS 1.15761 | TEST LOSS 1.07856 | ACCURACY 77.60%\n",
      "EPOCH 14 | TRAIN LOSS 1.07494 | TEST LOSS 1.00646 | ACCURACY 78.62%\n",
      "EPOCH 15 | TRAIN LOSS 1.00266 | TEST LOSS 0.94398 | ACCURACY 79.62%\n",
      "EPOCH 16 | TRAIN LOSS 0.94007 | TEST LOSS 0.88997 | ACCURACY 80.31%\n",
      "EPOCH 17 | TRAIN LOSS 0.88603 | TEST LOSS 0.84323 | ACCURACY 80.96%\n",
      "EPOCH 18 | TRAIN LOSS 0.83929 | TEST LOSS 0.80257 | ACCURACY 81.51%\n",
      "EPOCH 19 | TRAIN LOSS 0.79870 | TEST LOSS 0.76706 | ACCURACY 82.06%\n",
      "EPOCH 20 | TRAIN LOSS 0.76323 | TEST LOSS 0.73576 | ACCURACY 82.54%\n"
     ]
    }
   ],
   "source": [
    "# モデルの宣言\n",
    "model = MLP_classifier()\n",
    "\n",
    "# 学習率\n",
    "lr = 0.005\n",
    "# 学習エポック数\n",
    "n_epoch = 20\n",
    "\n",
    "# n_epoch繰り返す\n",
    "for n in range(n_epoch):\n",
    "    # 訓練\n",
    "    # Chapter02範囲外のため、ミニバッチは使用しない\n",
    "    y = model.forward(X_train)\n",
    "    loss = model.backward(T_train)\n",
    "    model.optimize_GradientDescent(lr)\n",
    "\n",
    "    # テスト\n",
    "    y = model.forward(X_test)\n",
    "    test_loss = model.backward(T_test)\n",
    "    pred = softmax(y)\n",
    "    accuracy = np.mean(np.equal(np.argmax(y, axis=1), np.argmax(T_test, axis=1)))\n",
    "    print(\n",
    "        f\"EPOCH {n + 1} | TRAIN LOSS {loss:.5f} | TEST LOSS {test_loss:.5f} | ACCURACY {accuracy:.2%}\"\n",
    "    )\n",
    "classification_accuracy = accuracy"
   ]
  },
  {
   "attachments": {},
   "cell_type": "markdown",
   "metadata": {
    "id": "7OMvEwV__n6W"
   },
   "source": [
    "#### 提出可否"
   ]
  },
  {
   "cell_type": "code",
   "execution_count": 39,
   "metadata": {
    "id": "tWf5LY2h_gpT"
   },
   "outputs": [
    {
     "name": "stdout",
     "output_type": "stream",
     "text": [
      "大問1 回帰ロス:  0.4178181508142125\n",
      "大問2 分類精度:  0.8254285714285714\n",
      "回帰モデルと分類モデルどちらも学習が成功しているので、提出可能です。\n"
     ]
    }
   ],
   "source": [
    "print(\"大問1 回帰ロス: \", regression_loss)\n",
    "print(\"大問2 分類精度: \", classification_accuracy)\n",
    "pass0 = regression_loss < 0.5\n",
    "pass1 = classification_accuracy > 0.8\n",
    "if pass0 and pass1:\n",
    "    print(\"回帰モデルと分類モデルどちらも学習が成功しているので、提出可能です。\")\n",
    "else:\n",
    "    if not pass0:\n",
    "        print(\"回帰モデル（大問１）の学習が成功していません。\")\n",
    "    if not pass1:\n",
    "        print(\"分類モデル（大問２）の学習が成功していません。\")\n",
    "    print(\"回答を訂正してください。\")"
   ]
  },
  {
   "attachments": {},
   "cell_type": "markdown",
   "metadata": {
    "id": "utE1sjFC_tII"
   },
   "source": [
    "#### 補足\n",
    "\n",
    "今試験では簡単のため、ミニバッチ学習・重み減衰などの正則化・より高度な最適化・データのオーグメンテーション(拡張)など、chapter03, chapter04で学習する重要な手法を使用していません。これらを使用すれば、全結合層でもmnist手書き数字の認識精度を大きく上げることが可能です。例えばミニバッチを簡単に導入するだけで、20epochで97%以上の精度に達します。"
   ]
  },
  {
   "attachments": {},
   "cell_type": "markdown",
   "metadata": {
    "id": "lJCGOp1k_wBi"
   },
   "source": [
    "#### 発展\n",
    "\n",
    "回帰モデル試験、分類モデル試験それぞれについて学習率・エポック数を変えてみて学習における挙動を観察してみましょう。また、多層パーセプトロンの総数やノード数を変更し、より良い精度を出せる条件を探してみましょう。"
   ]
  }
 ],
 "metadata": {
  "colab": {
   "collapsed_sections": [],
   "name": "コーディング演習Chapter02.ipynb",
   "provenance": []
  },
  "kernelspec": {
   "display_name": "Python 3 (ipykernel)",
   "language": "python",
   "name": "python3"
  },
  "language_info": {
   "codemirror_mode": {
    "name": "ipython",
    "version": 3
   },
   "file_extension": ".py",
   "mimetype": "text/x-python",
   "name": "python",
   "nbconvert_exporter": "python",
   "pygments_lexer": "ipython3",
   "version": "3.10.14"
  },
  "vscode": {
   "interpreter": {
    "hash": "aee8b7b246df8f9039afb4144a1f6fd8d2ca17a180786b69acc140d282b71a49"
   }
  }
 },
 "nbformat": 4,
 "nbformat_minor": 4
}
