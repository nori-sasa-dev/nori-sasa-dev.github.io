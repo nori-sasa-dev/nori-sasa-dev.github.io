{
  "nbformat": 4,
  "nbformat_minor": 0,
  "metadata": {
    "colab": {
      "provenance": [],
      "authorship_tag": "ABX9TyP8yJohvsUZH9hgLxxNhMqu",
      "include_colab_link": true
    },
    "kernelspec": {
      "name": "python3",
      "display_name": "Python 3"
    },
    "language_info": {
      "name": "python"
    }
  },
  "cells": [
    {
      "cell_type": "markdown",
      "metadata": {
        "id": "view-in-github",
        "colab_type": "text"
      },
      "source": [
        "<a href=\"https://colab.research.google.com/github/nori-sasa-dev/nori-sasa-dev.github.io/blob/main/%E3%82%B3%E3%83%BC%E3%83%87%E3%82%A3%E3%83%B3%E3%82%B0%E8%A9%A6%E9%A8%93Chapter2_%E5%86%99%E7%B5%8C.ipynb\" target=\"_parent\"><img src=\"https://colab.research.google.com/assets/colab-badge.svg\" alt=\"Open In Colab\"/></a>"
      ]
    },
    {
      "cell_type": "markdown",
      "source": [
        "# 2. MLP基礎"
      ],
      "metadata": {
        "id": "jEP6O7RKiIfC"
      }
    },
    {
      "cell_type": "markdown",
      "source": [
        "### 【Google colabのみ実行】ライブラリのインストール"
      ],
      "metadata": {
        "id": "tcQXvyTgiUQQ"
      }
    },
    {
      "cell_type": "code",
      "source": [
        "import sys\n",
        "\n",
        "# Google colab環境であるか判定\n",
        "if \"google.colab\" in sys.modules:\n",
        "    print(\"Google Colab\")\n",
        "    # ライブラリのインストール\n",
        "    %pip install --no-warn-conflicts opencv-python==4.8.1.78\n",
        "else:\n",
        "    print(\"Not Google Colab\")"
      ],
      "metadata": {
        "colab": {
          "base_uri": "https://localhost:8080/"
        },
        "id": "2QL2NzeZiVFU",
        "outputId": "a313a9b9-3503-4feb-efa9-9ebb4b052bd6"
      },
      "execution_count": 1,
      "outputs": [
        {
          "output_type": "stream",
          "name": "stdout",
          "text": [
            "Google Colab\n",
            "Requirement already satisfied: opencv-python==4.8.1.78 in /usr/local/lib/python3.12/dist-packages (4.8.1.78)\n",
            "Requirement already satisfied: numpy>=1.21.2 in /usr/local/lib/python3.12/dist-packages (from opencv-python==4.8.1.78) (1.26.4)\n"
          ]
        }
      ]
    },
    {
      "cell_type": "markdown",
      "source": [
        "### 【Google colabのみ実行】ドライブのマウント"
      ],
      "metadata": {
        "id": "m2CRUiWuijEU"
      }
    },
    {
      "cell_type": "code",
      "source": [
        "import sys\n",
        "\n",
        "# Google colab環境であるか判定\n",
        "if \"google.colab\" in sys.modules:\n",
        "    # マウントを行う\n",
        "    from google.colab import drive\n",
        "    drive.mount(\"/content/drive\")\n",
        "else:\n",
        "    print(\"Not Google Colab\")"
      ],
      "metadata": {
        "colab": {
          "base_uri": "https://localhost:8080/"
        },
        "id": "VXXfpkYEijsd",
        "outputId": "c713f98e-1618-4c2e-9b12-fa0d15c2b240"
      },
      "execution_count": 2,
      "outputs": [
        {
          "output_type": "stream",
          "name": "stdout",
          "text": [
            "Drive already mounted at /content/drive; to attempt to forcibly remount, call drive.mount(\"/content/drive\", force_remount=True).\n"
          ]
        }
      ]
    },
    {
      "cell_type": "markdown",
      "source": [
        "### ファイル操作\n",
        "\n",
        "手持ちのデータをcolabで使用するには、データをGoogleドライブ内のフォルダに上げる必要があります。<br>\n",
        "\n",
        "**画面左側のファイルマークのボタン**をクリックして、ドライブ内のファイルリストを開いてください。<br>\n",
        "\n",
        "すると「drive」「sample_data」というフォルダがあり、「drive」がマイドライブや共有ドライブの入っているフォルダになります。<br>\n",
        "<br>\n",
        "この「drive」フォルダの中でアップロードしたい場所を選び、**右クリック(または3点リーダー「⋮」をクリック)から「アップロード」を押して**、今回使用するファイル<font color=\"Red\">「train_data.csv」「test_data.csv」</font>をアップしましょう。<br>\n",
        "<br>\n",
        "アップロードしたファイルをコードの関数内で参照する際は右クリックで「パスをコピー」を選択し、コードに貼り付けましょう。<br>"
      ],
      "metadata": {
        "id": "2SRbpn5yjfAv"
      }
    },
    {
      "cell_type": "markdown",
      "source": [
        "## 回帰モデル試験（スクラッチ）"
      ],
      "metadata": {
        "id": "bLUh5UA3k6FT"
      }
    },
    {
      "cell_type": "markdown",
      "source": [
        "### データの準備"
      ],
      "metadata": {
        "id": "nTgJjsxfk_nM"
      }
    },
    {
      "cell_type": "markdown",
      "source": [
        "#### ライブラリのインポート\n"
      ],
      "metadata": {
        "id": "ljqoR2Z1lD6d"
      }
    },
    {
      "cell_type": "code",
      "metadata": {
        "colab": {
          "base_uri": "https://localhost:8080/",
          "height": 354
        },
        "id": "e7caaa77",
        "outputId": "d1e77564-ac48-447c-f07d-574ef7cb5e36"
      },
      "source": [
        "# Downgrade numpy to a version compatible with opencv-python 4.8.1.78\n",
        "%pip install \"numpy<2\" --force-reinstall"
      ],
      "execution_count": 3,
      "outputs": [
        {
          "output_type": "stream",
          "name": "stdout",
          "text": [
            "Collecting numpy<2\n",
            "  Using cached numpy-1.26.4-cp312-cp312-manylinux_2_17_x86_64.manylinux2014_x86_64.whl.metadata (61 kB)\n",
            "Using cached numpy-1.26.4-cp312-cp312-manylinux_2_17_x86_64.manylinux2014_x86_64.whl (18.0 MB)\n",
            "Installing collected packages: numpy\n",
            "  Attempting uninstall: numpy\n",
            "    Found existing installation: numpy 1.26.4\n",
            "    Uninstalling numpy-1.26.4:\n",
            "      Successfully uninstalled numpy-1.26.4\n",
            "\u001b[31mERROR: pip's dependency resolver does not currently take into account all the packages that are installed. This behaviour is the source of the following dependency conflicts.\n",
            "opencv-contrib-python 4.12.0.88 requires numpy<2.3.0,>=2; python_version >= \"3.9\", but you have numpy 1.26.4 which is incompatible.\n",
            "thinc 8.3.6 requires numpy<3.0.0,>=2.0.0, but you have numpy 1.26.4 which is incompatible.\n",
            "opencv-python-headless 4.12.0.88 requires numpy<2.3.0,>=2; python_version >= \"3.9\", but you have numpy 1.26.4 which is incompatible.\u001b[0m\u001b[31m\n",
            "\u001b[0mSuccessfully installed numpy-1.26.4\n"
          ]
        },
        {
          "output_type": "display_data",
          "data": {
            "application/vnd.colab-display-data+json": {
              "pip_warning": {
                "packages": [
                  "numpy"
                ]
              },
              "id": "c626f010eba1457d9093b8e59a170f48"
            }
          },
          "metadata": {}
        }
      ]
    },
    {
      "cell_type": "code",
      "source": [
        "import csv\n",
        "import os\n",
        "import pickle\n",
        "import sys\n",
        "\n",
        "import cv2\n",
        "import matplotlib.pyplot as plt\n",
        "import numpy as np\n",
        "from mpl_toolkits.mplot3d import Axes3D\n",
        "from sklearn import datasets\n",
        "from sklearn.model_selection import train_test_split\n",
        "\n",
        "%matplotlib inline\n",
        "# \"%matplotlib inline\" の代わりに以下のコマンドを使用できる場合、3次元で座標軸を操作可能なプロットを表示することができます。\n",
        "# %matplotlib notebook\n",
        "\n",
        "# 乱数シードを指定\n",
        "np.random.seed(seed=0)"
      ],
      "metadata": {
        "id": "yI4AVIYflI5l"
      },
      "execution_count": 1,
      "outputs": []
    },
    {
      "cell_type": "markdown",
      "source": [
        "#### データの３次元散布図を作成する関数"
      ],
      "metadata": {
        "id": "J7yKf9WIoc4l"
      }
    },
    {
      "cell_type": "code",
      "source": [
        "def plot_data(data, name=\"Data Plot\"):\n",
        "    \"\"\"3D散布図を描画する関数\n",
        "\n",
        "    Args:\n",
        "        data (numpy.ndarray): 描画するデータのnumpy配列。各行は(x0, x1, y)の形式である必要があります。\n",
        "        name (str, optional): グラフのタイトル。デフォルトは'Data Plot'です。\n",
        "\n",
        "    \"\"\"\n",
        "    # グラフ作成\n",
        "    fig = plt.figure()\n",
        "    ax = fig.add_subplot(111, projection=\"3d\")\n",
        "\n",
        "    # 軸ラベルの設定\n",
        "    ax.set_xlabel(\"X0-axis\")\n",
        "    ax.set_ylabel(\"X1-axis\")\n",
        "    ax.set_zlabel(\"Y-axis\")\n",
        "\n",
        "    # 表示範囲の設定\n",
        "    ax.set_xlim(-2, 2)\n",
        "    ax.set_ylim(-2, 2)\n",
        "    ax.set_zlim(0, 10)\n",
        "\n",
        "    ax.plot(data[:, 0], data[:, 1], data[:, 2], \"o\", color=\"#ff2222\", ms=2, mew=0.5)\n",
        "    ax.set_title(name)\n",
        "    plt.show()"
      ],
      "metadata": {
        "id": "dB0qlGzPlhJM"
      },
      "execution_count": 2,
      "outputs": []
    },
    {
      "cell_type": "markdown",
      "source": [
        "#### データの読み込み"
      ],
      "metadata": {
        "id": "6uzWebDPompv"
      }
    },
    {
      "cell_type": "code",
      "source": [
        "# Pathの設定\n",
        "if \"google.colab\" in sys.modules:\n",
        "    train_path = \"/content/drive/MyDrive/E_Train/train_data.csv\"\n",
        "    test_path = \"/content/drive/MyDrive/E_Train/test_data.csv\"\n",
        "else:\n",
        "    train_path = \"train_data.csv\"\n",
        "    test_path = \"test_data.csv\"\n",
        "\n",
        "# データの読み込み\n",
        "with open(train_path) as f:\n",
        "    reader = csv.reader(f)\n",
        "    train_data = np.array([[float(x) for x in row] for row in reader])\n",
        "with open(test_path) as f:\n",
        "    reader = csv.reader(f)\n",
        "    test_data = np.array([[float(x) for x in row] for row in reader])\n",
        "\n",
        "# 訓練データを可視化\n",
        "plot_data(train_data, \"Train Data\")"
      ],
      "metadata": {
        "colab": {
          "base_uri": "https://localhost:8080/",
          "height": 442
        },
        "id": "TUOE2KPWof1F",
        "outputId": "c9879a8e-3662-46ae-a4e2-90e8d443d6bf"
      },
      "execution_count": 4,
      "outputs": [
        {
          "output_type": "display_data",
          "data": {
            "text/plain": [
              "<Figure size 640x480 with 1 Axes>"
            ],
            "image/png": "[encoded data removed]"
          },
          "metadata": {}
        }
      ]
    },
    {
      "cell_type": "markdown",
      "source": [
        "#### データの数"
      ],
      "metadata": {
        "id": "QggcgYnupUFV"
      }
    },
    {
      "cell_type": "code",
      "source": [
        "N_train = train_data.shape[0]\n",
        "print(\"訓練データの数: \", N_train)\n",
        "N_test = test_data.shape[0]\n",
        "print(\"テストデータの数: \", N_test)"
      ],
      "metadata": {
        "colab": {
          "base_uri": "https://localhost:8080/"
        },
        "id": "sqI-bvEDouAE",
        "outputId": "e6a43885-fe12-4ae6-b6e9-e0300df914cc"
      },
      "execution_count": 5,
      "outputs": [
        {
          "output_type": "stream",
          "name": "stdout",
          "text": [
            "訓練データの数:  10000\n",
            "テストデータの数:  2000\n"
          ]
        }
      ]
    },
    {
      "cell_type": "markdown",
      "source": [
        "### 活性化関数"
      ],
      "metadata": {
        "id": "ZSZWHN9_pfYT"
      }
    },
    {
      "cell_type": "markdown",
      "source": [
        "#### ReLU関数\n",
        "\n",
        "* <font color=\"Red\">問1. ReLUを完成させてください。</font>\n",
        "\n",
        "```\n",
        "引数:\n",
        "    v: [N, M] (np.float64)\n",
        "       Nはバッチサイズにあたる\n",
        "返値:\n",
        "    [N, M] (np.float64)\n",
        "```\n",
        "\n",
        "- 以下の式で定義されるrelu関数を実装します。\n",
        "$$ \\text{ReLU}(x) = \\left\\{ \\begin{array}{ll} x & (x \\gt 0) \\\\ 0 & (x \\leq 0) \\end{array} \\right. $$\n",
        "- 引数`v`の各要素と0の大きい方を取り、`x`とします。\n",
        "- ヒント: np.maximum()"
      ],
      "metadata": {
        "id": "t_97-IN7piag"
      }
    },
    {
      "cell_type": "code",
      "source": [
        "def relu(v):\n",
        "  x = np.maximum(0, v)\n",
        "  return x"
      ],
      "metadata": {
        "id": "_m9Oh1YNpa2t"
      },
      "execution_count": 6,
      "outputs": []
    },
    {
      "cell_type": "code",
      "source": [
        "print(f\"{relu(1) = }\")\n",
        "print(f\"{relu(-2) = }\")\n",
        "print(f\"{relu(0.1) = }\")\n",
        "print(f\"{relu(-0.5) = }\")"
      ],
      "metadata": {
        "colab": {
          "base_uri": "https://localhost:8080/"
        },
        "id": "6OASS2GSp5Wz",
        "outputId": "6f4c2348-a842-4205-d6d2-bee8938aa137"
      },
      "execution_count": 7,
      "outputs": [
        {
          "output_type": "stream",
          "name": "stdout",
          "text": [
            "relu(1) = 1\n",
            "relu(-2) = 0\n",
            "relu(0.1) = 0.1\n",
            "relu(-0.5) = 0.0\n"
          ]
        }
      ]
    },
    {
      "cell_type": "markdown",
      "source": [
        "#### softmax関数\n",
        "\n",
        "* <font color=\"Red\">問2. softmax関数を完成させてください。</font>\n",
        "\n",
        "```plaintext\n",
        "引数:\n",
        "    x: [N, M] (np.float64)\n",
        "       Nはバッチサイズにあたる\n",
        "返値:\n",
        "    [N, M] (np.float64)\n",
        "```\n",
        "\n",
        "バッチ計算が可能なsoftmax関数を実装します。\\\n",
        "exp関数がオーバーフローすることを防ぐために、各データについて入力信号の最大値を引いて、0以下にします。\\\n",
        "numpyでは `[N, M] - [N]` の計算はブロードキャストができませんので、`x` を転置し `[M, N] - [N]` の形で計算を行ったあと、さらに転置をして元の形に戻します。\n",
        "\n",
        "$$\n",
        "\\begin{align*}\n",
        "  \\text{Softmax}(x_{ij}) &= \\frac{\\exp (x_{ij}^{\\prime})}{\\sum_{k=1}^M \\exp (x_{ik}^{\\prime})} \\\\\n",
        "  x_{ij}^\\prime &= x_{ij} - \\max_{j}(x_{ij})\n",
        "\\end{align*}\n",
        "$$"
      ],
      "metadata": {
        "id": "X5KzWryFrqTd"
      }
    },
    {
      "cell_type": "code",
      "source": [
        "# 転置あり\n",
        "def softmax(x):\n",
        "  x = x.T\n",
        "  x = x - np.max(x, axis=0, keepdims=True)\n",
        "  x = np.exp(x)\n",
        "  x = x / np.sum(x, axis=0, keepdims=True)\n",
        "  return x.T"
      ],
      "metadata": {
        "id": "RprKDaQXrc12"
      },
      "execution_count": 8,
      "outputs": []
    },
    {
      "cell_type": "code",
      "source": [
        "# 転置なし\n",
        "def softmax(x):\n",
        "  x = x - np.max(x, axis=1, keepdims=True)\n",
        "  exp_x = np.exp(x)\n",
        "  return exp_x / np.sum(exp_x, axis=1, keepdims=True)"
      ],
      "metadata": {
        "id": "KjL5IgphsWoZ"
      },
      "execution_count": 9,
      "outputs": []
    },
    {
      "cell_type": "code",
      "source": [
        "x = np.array([[2.0, 1.0, 0.1],\n",
        "              [1.0, 3.0, 0.2]])\n",
        "result = softmax(x)\n",
        "print(result)"
      ],
      "metadata": {
        "colab": {
          "base_uri": "https://localhost:8080/"
        },
        "id": "4gBtgpZGxqe_",
        "outputId": "3992e405-20af-4744-f62f-ff07888db274"
      },
      "execution_count": 13,
      "outputs": [
        {
          "output_type": "stream",
          "name": "stdout",
          "text": [
            "[[0.65900114 0.24243297 0.09856589]\n",
            " [0.11314284 0.8360188  0.05083836]]\n"
          ]
        }
      ]
    },
    {
      "cell_type": "markdown",
      "source": [
        "# axis / keepdimsの使い方\n",
        "axis=0 : 列方向  \n",
        "axis=1 : 行方向  \n",
        "  \n",
        "keepdims=True : 計算後も元の次元を保持する  \n",
        "keepdims=False: 計算後は次元が減る\n"
      ],
      "metadata": {
        "id": "irwSo0gRvEma"
      }
    },
    {
      "cell_type": "code",
      "source": [
        "# axis / keepdims 学習用コード\n",
        "a = np.array([[1, 2, 3],\n",
        "              [4, 5, 6],\n",
        "              [7, 8, 9]])\n",
        "print(f\"{np.max(a, axis=0, keepdims=True) = }\")\n",
        "print(f\"{np.max(a, axis=1, keepdims=True) = }\")"
      ],
      "metadata": {
        "colab": {
          "base_uri": "https://localhost:8080/"
        },
        "id": "g5aalEGrvDjK",
        "outputId": "aada0c24-cb6b-44b9-86dc-e6b1066f0cf5"
      },
      "execution_count": 10,
      "outputs": [
        {
          "output_type": "stream",
          "name": "stdout",
          "text": [
            "np.max(a, axis=0, keepdims=True) = array([[7, 8, 9]])\n",
            "np.max(a, axis=1, keepdims=True) = array([[3],\n",
            "       [6],\n",
            "       [9]])\n"
          ]
        }
      ]
    },
    {
      "cell_type": "code",
      "source": [
        "# axis / keepdims 学習用コード\n",
        "a = np.array([[1, 2, 3],\n",
        "              [4, 5, 6],\n",
        "              [7, 8, 9]])\n",
        "print(f\"{np.max(a, axis=0, keepdims=False) = }\")\n",
        "print(f\"{np.max(a, axis=1, keepdims=False) = }\")"
      ],
      "metadata": {
        "colab": {
          "base_uri": "https://localhost:8080/"
        },
        "id": "uIswQg0jv915",
        "outputId": "7e9962d3-7a71-46f8-8e78-04b13fd83944"
      },
      "execution_count": 11,
      "outputs": [
        {
          "output_type": "stream",
          "name": "stdout",
          "text": [
            "np.max(a, axis=0, keepdims=False) = array([7, 8, 9])\n",
            "np.max(a, axis=1, keepdims=False) = array([3, 6, 9])\n"
          ]
        }
      ]
    },
    {
      "cell_type": "markdown",
      "source": [
        "#### sigmoid関数\n",
        "* <font color=\"Red\">問3. sigmoid関数を完成させてください。</font>\n",
        "\n",
        "```\n",
        "引数:\n",
        "    x: [N, M] (np.float64)\n",
        "       Nはバッチサイズにあたる\n",
        "返値:\n",
        "    [N, M] (np.float64)\n",
        "```\n",
        "\n",
        "バッチ計算が可能なsigmoid関数を実装します。<br>\n",
        "\n",
        "$$   \\text{Sigmoid}(x) = \\frac{1}{1 + \\exp(-x)} $$"
      ],
      "metadata": {
        "id": "qLUbp1M2yUr2"
      }
    },
    {
      "cell_type": "code",
      "source": [
        "def sigmoid(x):\n",
        "  return 1 / (1 + np.exp(-x))"
      ],
      "metadata": {
        "id": "muL6Wv45w4ro"
      },
      "execution_count": 14,
      "outputs": []
    },
    {
      "cell_type": "code",
      "source": [
        "print(sigmoid(0))\n",
        "print(sigmoid(9999))\n",
        "print(sigmoid(-9999))"
      ],
      "metadata": {
        "colab": {
          "base_uri": "https://localhost:8080/"
        },
        "id": "7Z_7RHQfyhG2",
        "outputId": "f4d3b342-8b42-4f98-dc7b-ae636bf6b369"
      },
      "execution_count": 15,
      "outputs": [
        {
          "output_type": "stream",
          "name": "stdout",
          "text": [
            "0.5\n",
            "1.0\n",
            "0.0\n"
          ]
        },
        {
          "output_type": "stream",
          "name": "stderr",
          "text": [
            "/tmp/ipython-input-449343092.py:2: RuntimeWarning: overflow encountered in exp\n",
            "  return 1 / (1 + np.exp(-x))\n"
          ]
        }
      ]
    },
    {
      "cell_type": "code",
      "source": [
        "sigmoid(np.array([-1, 0, 1]))"
      ],
      "metadata": {
        "colab": {
          "base_uri": "https://localhost:8080/"
        },
        "id": "yle4AMG0yspT",
        "outputId": "40ebbde0-fc2c-400e-cf9a-e7854f2ec3de"
      },
      "execution_count": 16,
      "outputs": [
        {
          "output_type": "execute_result",
          "data": {
            "text/plain": [
              "array([0.26894142, 0.5       , 0.73105858])"
            ]
          },
          "metadata": {},
          "execution_count": 16
        }
      ]
    },
    {
      "cell_type": "markdown",
      "source": [
        "#### tanh関数\n",
        "* <font color=\"Red\">問4. tanh関数を完成させてください。</font>\n",
        "  * <font color=\"Red\">問4-1. tanh関数の分子にあたるsinh(双曲線正弦関数)の式を記述しましょう。</font>\n",
        "  * <font color=\"Red\">問4-2. tanh関数の分母にあたるcosh(双曲線余弦関数)の式を記述しましょう。</font>\n",
        "\n",
        "```\n",
        "引数:\n",
        "    x: [N, M] (np.float64)\n",
        "       Nはバッチサイズにあたる\n",
        "返値:\n",
        "    [N, M] (np.float64)\n",
        "```\n",
        "\n",
        "バッチ計算が可能なtanh関数を実装します。<br>\n",
        "tanh関数は以下のように定義されている。<br>\n",
        "\n",
        "$$   \\text{tanh}(x) = \\frac{\\exp(x) - \\exp(-x)}{\\exp(x) + \\exp(-x)} $$\n",
        "\n",
        "tanh関数はハイパボリックタンジェントやタンエイチと読み、sinh関数とcosh関数を用いて以下のように書き直すことができる。\n",
        "\n",
        "$$   \\text{tanh}(x) = \\frac{\\text{sinh}(x) }{\\text{cosh}(x) } $$\n",
        "\n",
        "sinh関数はハイパボリックサインやシャイン、cosh関数はハイパボリックコサインやコッシュと読み、以下のように定義されている。\n",
        "\n",
        "$$   \\text{sinh}(x) = \\frac{\\exp(x) - \\exp(-x)}{2} $$\n",
        "\n",
        "$$   \\text{cosh}(x) = \\frac{\\exp(x) + \\exp(-x)}{2} $$"
      ],
      "metadata": {
        "id": "liNUjAcizC0h"
      }
    },
    {
      "cell_type": "code",
      "source": [
        "def tanh(x):\n",
        "  sinh = (np.exp(x) - np.exp(-x)) / 2\n",
        "  cosh = (np.exp(x) + np.exp(-x)) / 2\n",
        "  return sinh / cosh"
      ],
      "metadata": {
        "id": "t8L7uDXmy51-"
      },
      "execution_count": 17,
      "outputs": []
    },
    {
      "cell_type": "code",
      "source": [
        "print(tanh(0))\n",
        "print(tanh(100))\n",
        "print(tanh(-100))"
      ],
      "metadata": {
        "colab": {
          "base_uri": "https://localhost:8080/"
        },
        "id": "41r3KMbcznYw",
        "outputId": "46bacefa-d251-46c9-a10a-e789af3d5dc6"
      },
      "execution_count": 20,
      "outputs": [
        {
          "output_type": "stream",
          "name": "stdout",
          "text": [
            "0.0\n",
            "1.0\n",
            "-1.0\n"
          ]
        }
      ]
    },
    {
      "cell_type": "markdown",
      "source": [
        "#### Leaky ReLU関数\n",
        "\n",
        "* <font color=\"Red\">問5. Leaky ReLUを完成させてください。</font>\n",
        "\n",
        "```\n",
        "引数:\n",
        "    x: [N, M] (np.float64)\n",
        "       Nはバッチサイズにあたる\n",
        "返値:\n",
        "    [N, M] (np.float64)\n",
        "```\n",
        "\n",
        "- 以下の式で定義されるLeaky ReLU関数を実装します。\n",
        "\n",
        "$$ \\text{Leaky ReLU}(x,\\alpha) = \\left\\{ \\begin{array}{ll} x & (x \\gt 0) \\\\ \\alpha x & (x \\leq 0) \\end{array} \\right. $$\n",
        "- $\\alpha$は定数。"
      ],
      "metadata": {
        "id": "y4s5qDIY0WjI"
      }
    },
    {
      "cell_type": "code",
      "source": [
        "def lrelu(x, alpha=0.01):\n",
        "  x = np.maximum(alpha*x, x)\n",
        "  return x"
      ],
      "metadata": {
        "id": "x-Rmq9FXzsXX"
      },
      "execution_count": 21,
      "outputs": []
    },
    {
      "cell_type": "code",
      "source": [
        "print(lrelu(-0.5))\n",
        "print(lrelu(0.5))"
      ],
      "metadata": {
        "colab": {
          "base_uri": "https://localhost:8080/"
        },
        "id": "hvpxeDiM0sJs",
        "outputId": "1dfb4dc6-dca3-4db3-fa6d-8eb4e4aaf00b"
      },
      "execution_count": 22,
      "outputs": [
        {
          "output_type": "stream",
          "name": "stdout",
          "text": [
            "-0.005\n",
            "0.5\n"
          ]
        }
      ]
    },
    {
      "cell_type": "code",
      "source": [],
      "metadata": {
        "id": "hXLQF4VU001K"
      },
      "execution_count": null,
      "outputs": []
    }
  ]
}